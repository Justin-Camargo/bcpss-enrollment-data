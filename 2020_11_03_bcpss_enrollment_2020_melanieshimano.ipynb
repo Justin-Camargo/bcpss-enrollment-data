{
  "nbformat": 4,
  "nbformat_minor": 0,
  "metadata": {
    "colab": {
      "name": "2020-11-03-bcpss-enrollment-2020-melanieshimano.ipynb",
      "provenance": [],
      "collapsed_sections": [],
      "toc_visible": true,
      "authorship_tag": "ABX9TyOEV50g4PqTL6Eu5P2rNkPL",
      "include_colab_link": true
    },
    "kernelspec": {
      "name": "python3",
      "display_name": "Python 3"
    }
  },
  "cells": [
    {
      "cell_type": "markdown",
      "metadata": {
        "id": "view-in-github",
        "colab_type": "text"
      },
      "source": [
        "<a href=\"https://colab.research.google.com/github/melanieshimano/bcpss-enrollment-data/blob/main/2020_11_03_bcpss_enrollment_2020_melanieshimano.ipynb\" target=\"_parent\"><img src=\"https://colab.research.google.com/assets/colab-badge.svg\" alt=\"Open In Colab\"/></a>"
      ]
    },
    {
      "cell_type": "markdown",
      "metadata": {
        "id": "5DDQZhWGZpJ9"
      },
      "source": [
        "# Looking at Baltimore Public School Enrollment 2019-2020"
      ]
    },
    {
      "cell_type": "markdown",
      "metadata": {
        "id": "VcSDC4bSZvlX"
      },
      "source": [
        "\n",
        "\n",
        "*   Change in enrollment 2019-2020; how has covid affected enrollment?\n",
        "*   how is this different for different counties?\n",
        "*   how is this different for different grade levels?\n",
        "\n"
      ]
    },
    {
      "cell_type": "markdown",
      "metadata": {
        "id": "1nZ15DyYaAuo"
      },
      "source": [
        "# Import libraries"
      ]
    },
    {
      "cell_type": "code",
      "metadata": {
        "id": "BpWF4AmV7WiJ"
      },
      "source": [
        "#pip install plotly"
      ],
      "execution_count": null,
      "outputs": []
    },
    {
      "cell_type": "code",
      "metadata": {
        "id": "l3OEuqFvi5Xc"
      },
      "source": [
        "# import libraries\n",
        "\n",
        "#for data analysis\n",
        "import pandas as pd\n",
        "import numpy as np\n",
        "\n",
        "#for viz\n",
        "import plotly.express as px\n"
      ],
      "execution_count": null,
      "outputs": []
    },
    {
      "cell_type": "markdown",
      "metadata": {
        "id": "4tL3Eu-Ha7XF"
      },
      "source": [
        "# import data"
      ]
    },
    {
      "cell_type": "code",
      "metadata": {
        "id": "GEmrf5jva4WS"
      },
      "source": [
        "# import data \n",
        "\n",
        "#2019 enrollment data\n",
        "df_19_enroll = pd.read_csv(\"https://raw.githubusercontent.com/jhu-business-analytics/bcpss-enrollment-data/main/Enrollment_2019.csv\")\n"
      ],
      "execution_count": null,
      "outputs": []
    },
    {
      "cell_type": "code",
      "metadata": {
        "id": "oZvXEC6Wfa1U",
        "outputId": "64db9ea0-a393-42ae-ece9-cef0cfbef7a5",
        "colab": {
          "base_uri": "https://localhost:8080/",
          "height": 204
        }
      },
      "source": [
        "# preview data\n",
        "\n",
        "df_19_enroll.head()"
      ],
      "execution_count": null,
      "outputs": [
        {
          "output_type": "execute_result",
          "data": {
            "text/html": [
              "<div>\n",
              "<style scoped>\n",
              "    .dataframe tbody tr th:only-of-type {\n",
              "        vertical-align: middle;\n",
              "    }\n",
              "\n",
              "    .dataframe tbody tr th {\n",
              "        vertical-align: top;\n",
              "    }\n",
              "\n",
              "    .dataframe thead th {\n",
              "        text-align: right;\n",
              "    }\n",
              "</style>\n",
              "<table border=\"1\" class=\"dataframe\">\n",
              "  <thead>\n",
              "    <tr style=\"text-align: right;\">\n",
              "      <th></th>\n",
              "      <th>Academic Year</th>\n",
              "      <th>LSS Number</th>\n",
              "      <th>LSS Name</th>\n",
              "      <th>School Number</th>\n",
              "      <th>School Name</th>\n",
              "      <th>Grade</th>\n",
              "      <th>Enrolled Count</th>\n",
              "      <th>Create Date</th>\n",
              "    </tr>\n",
              "  </thead>\n",
              "  <tbody>\n",
              "    <tr>\n",
              "      <th>0</th>\n",
              "      <td>2019</td>\n",
              "      <td>01</td>\n",
              "      <td>Allegany</td>\n",
              "      <td>0301</td>\n",
              "      <td>Flintstone Elementary</td>\n",
              "      <td>Prekindergarten</td>\n",
              "      <td>13</td>\n",
              "      <td>20190903</td>\n",
              "    </tr>\n",
              "    <tr>\n",
              "      <th>1</th>\n",
              "      <td>2019</td>\n",
              "      <td>01</td>\n",
              "      <td>Allegany</td>\n",
              "      <td>0301</td>\n",
              "      <td>Flintstone Elementary</td>\n",
              "      <td>Kindergarten</td>\n",
              "      <td>31</td>\n",
              "      <td>20190903</td>\n",
              "    </tr>\n",
              "    <tr>\n",
              "      <th>2</th>\n",
              "      <td>2019</td>\n",
              "      <td>01</td>\n",
              "      <td>Allegany</td>\n",
              "      <td>0301</td>\n",
              "      <td>Flintstone Elementary</td>\n",
              "      <td>Grade 1</td>\n",
              "      <td>36</td>\n",
              "      <td>20190903</td>\n",
              "    </tr>\n",
              "    <tr>\n",
              "      <th>3</th>\n",
              "      <td>2019</td>\n",
              "      <td>01</td>\n",
              "      <td>Allegany</td>\n",
              "      <td>0301</td>\n",
              "      <td>Flintstone Elementary</td>\n",
              "      <td>Grade 2</td>\n",
              "      <td>28</td>\n",
              "      <td>20190903</td>\n",
              "    </tr>\n",
              "    <tr>\n",
              "      <th>4</th>\n",
              "      <td>2019</td>\n",
              "      <td>01</td>\n",
              "      <td>Allegany</td>\n",
              "      <td>0301</td>\n",
              "      <td>Flintstone Elementary</td>\n",
              "      <td>Grade 3</td>\n",
              "      <td>40</td>\n",
              "      <td>20190903</td>\n",
              "    </tr>\n",
              "  </tbody>\n",
              "</table>\n",
              "</div>"
            ],
            "text/plain": [
              "   Academic Year LSS Number  ... Enrolled Count Create Date\n",
              "0           2019         01  ...             13    20190903\n",
              "1           2019         01  ...             31    20190903\n",
              "2           2019         01  ...             36    20190903\n",
              "3           2019         01  ...             28    20190903\n",
              "4           2019         01  ...             40    20190903\n",
              "\n",
              "[5 rows x 8 columns]"
            ]
          },
          "metadata": {
            "tags": []
          },
          "execution_count": 68
        }
      ]
    },
    {
      "cell_type": "code",
      "metadata": {
        "id": "xYktbi9nfeFS"
      },
      "source": [
        "#import rest of the data\n",
        "\n",
        "# 2020 enrollment data\n",
        "df_20_enroll = pd.read_csv(\"https://raw.githubusercontent.com/jhu-business-analytics/bcpss-enrollment-data/main/Enrollment_By_Grade_2020.csv\")\n",
        "\n",
        "#2019 attendance data\n",
        "df_19_attend = pd.read_csv(\"https://raw.githubusercontent.com/jhu-business-analytics/bcpss-enrollment-data/main/Attendance_2019.csv\")"
      ],
      "execution_count": null,
      "outputs": []
    },
    {
      "cell_type": "code",
      "metadata": {
        "id": "fEDhxQM9gEMZ",
        "outputId": "fd2fc329-5e67-4195-e09a-0417d8872937",
        "colab": {
          "base_uri": "https://localhost:8080/",
          "height": 359
        }
      },
      "source": [
        "#preview 2020 enrollment\n",
        "df_20_enroll.head(10)"
      ],
      "execution_count": null,
      "outputs": [
        {
          "output_type": "execute_result",
          "data": {
            "text/html": [
              "<div>\n",
              "<style scoped>\n",
              "    .dataframe tbody tr th:only-of-type {\n",
              "        vertical-align: middle;\n",
              "    }\n",
              "\n",
              "    .dataframe tbody tr th {\n",
              "        vertical-align: top;\n",
              "    }\n",
              "\n",
              "    .dataframe thead th {\n",
              "        text-align: right;\n",
              "    }\n",
              "</style>\n",
              "<table border=\"1\" class=\"dataframe\">\n",
              "  <thead>\n",
              "    <tr style=\"text-align: right;\">\n",
              "      <th></th>\n",
              "      <th>Year</th>\n",
              "      <th>LSS</th>\n",
              "      <th>LSS Name</th>\n",
              "      <th>School</th>\n",
              "      <th>School Name</th>\n",
              "      <th>Grade</th>\n",
              "      <th>Enrolled Count</th>\n",
              "      <th>Create Date</th>\n",
              "    </tr>\n",
              "  </thead>\n",
              "  <tbody>\n",
              "    <tr>\n",
              "      <th>0</th>\n",
              "      <td>2020</td>\n",
              "      <td>01</td>\n",
              "      <td>Allegany</td>\n",
              "      <td>0301</td>\n",
              "      <td>Flintstone Elementary</td>\n",
              "      <td>Prekindergarten Age 4</td>\n",
              "      <td>19</td>\n",
              "      <td>20200805</td>\n",
              "    </tr>\n",
              "    <tr>\n",
              "      <th>1</th>\n",
              "      <td>2020</td>\n",
              "      <td>01</td>\n",
              "      <td>Allegany</td>\n",
              "      <td>0301</td>\n",
              "      <td>Flintstone Elementary</td>\n",
              "      <td>Kindergarten</td>\n",
              "      <td>28</td>\n",
              "      <td>20200805</td>\n",
              "    </tr>\n",
              "    <tr>\n",
              "      <th>2</th>\n",
              "      <td>2020</td>\n",
              "      <td>01</td>\n",
              "      <td>Allegany</td>\n",
              "      <td>0301</td>\n",
              "      <td>Flintstone Elementary</td>\n",
              "      <td>Grade 1</td>\n",
              "      <td>31</td>\n",
              "      <td>20200805</td>\n",
              "    </tr>\n",
              "    <tr>\n",
              "      <th>3</th>\n",
              "      <td>2020</td>\n",
              "      <td>01</td>\n",
              "      <td>Allegany</td>\n",
              "      <td>0301</td>\n",
              "      <td>Flintstone Elementary</td>\n",
              "      <td>Grade 2</td>\n",
              "      <td>40</td>\n",
              "      <td>20200805</td>\n",
              "    </tr>\n",
              "    <tr>\n",
              "      <th>4</th>\n",
              "      <td>2020</td>\n",
              "      <td>01</td>\n",
              "      <td>Allegany</td>\n",
              "      <td>0301</td>\n",
              "      <td>Flintstone Elementary</td>\n",
              "      <td>Grade 3</td>\n",
              "      <td>30</td>\n",
              "      <td>20200805</td>\n",
              "    </tr>\n",
              "    <tr>\n",
              "      <th>5</th>\n",
              "      <td>2020</td>\n",
              "      <td>01</td>\n",
              "      <td>Allegany</td>\n",
              "      <td>0301</td>\n",
              "      <td>Flintstone Elementary</td>\n",
              "      <td>Grade 4</td>\n",
              "      <td>38</td>\n",
              "      <td>20200805</td>\n",
              "    </tr>\n",
              "    <tr>\n",
              "      <th>6</th>\n",
              "      <td>2020</td>\n",
              "      <td>01</td>\n",
              "      <td>Allegany</td>\n",
              "      <td>0301</td>\n",
              "      <td>Flintstone Elementary</td>\n",
              "      <td>Grade 5</td>\n",
              "      <td>35</td>\n",
              "      <td>20200805</td>\n",
              "    </tr>\n",
              "    <tr>\n",
              "      <th>7</th>\n",
              "      <td>2020</td>\n",
              "      <td>01</td>\n",
              "      <td>Allegany</td>\n",
              "      <td>0301</td>\n",
              "      <td>Flintstone Elementary</td>\n",
              "      <td>All Grades</td>\n",
              "      <td>221</td>\n",
              "      <td>20200805</td>\n",
              "    </tr>\n",
              "    <tr>\n",
              "      <th>8</th>\n",
              "      <td>2020</td>\n",
              "      <td>01</td>\n",
              "      <td>Allegany</td>\n",
              "      <td>0401</td>\n",
              "      <td>South Penn Elementary</td>\n",
              "      <td>Prekindergarten Age 4</td>\n",
              "      <td>97</td>\n",
              "      <td>20200805</td>\n",
              "    </tr>\n",
              "    <tr>\n",
              "      <th>9</th>\n",
              "      <td>2020</td>\n",
              "      <td>01</td>\n",
              "      <td>Allegany</td>\n",
              "      <td>0401</td>\n",
              "      <td>South Penn Elementary</td>\n",
              "      <td>Kindergarten</td>\n",
              "      <td>63</td>\n",
              "      <td>20200805</td>\n",
              "    </tr>\n",
              "  </tbody>\n",
              "</table>\n",
              "</div>"
            ],
            "text/plain": [
              "   Year LSS  LSS Name  ...                  Grade Enrolled Count Create Date\n",
              "0  2020  01  Allegany  ...  Prekindergarten Age 4             19    20200805\n",
              "1  2020  01  Allegany  ...           Kindergarten             28    20200805\n",
              "2  2020  01  Allegany  ...                Grade 1             31    20200805\n",
              "3  2020  01  Allegany  ...                Grade 2             40    20200805\n",
              "4  2020  01  Allegany  ...                Grade 3             30    20200805\n",
              "5  2020  01  Allegany  ...                Grade 4             38    20200805\n",
              "6  2020  01  Allegany  ...                Grade 5             35    20200805\n",
              "7  2020  01  Allegany  ...             All Grades            221    20200805\n",
              "8  2020  01  Allegany  ...  Prekindergarten Age 4             97    20200805\n",
              "9  2020  01  Allegany  ...           Kindergarten             63    20200805\n",
              "\n",
              "[10 rows x 8 columns]"
            ]
          },
          "metadata": {
            "tags": []
          },
          "execution_count": 70
        }
      ]
    },
    {
      "cell_type": "code",
      "metadata": {
        "id": "srnE3XvkgIQk",
        "outputId": "7b8e576b-9b1c-4c03-c897-04fc29a476a5",
        "colab": {
          "base_uri": "https://localhost:8080/",
          "height": 428
        }
      },
      "source": [
        "#preview the attendance data\n",
        "df_19_attend.tail()"
      ],
      "execution_count": null,
      "outputs": [
        {
          "output_type": "execute_result",
          "data": {
            "text/html": [
              "<div>\n",
              "<style scoped>\n",
              "    .dataframe tbody tr th:only-of-type {\n",
              "        vertical-align: middle;\n",
              "    }\n",
              "\n",
              "    .dataframe tbody tr th {\n",
              "        vertical-align: top;\n",
              "    }\n",
              "\n",
              "    .dataframe thead th {\n",
              "        text-align: right;\n",
              "    }\n",
              "</style>\n",
              "<table border=\"1\" class=\"dataframe\">\n",
              "  <thead>\n",
              "    <tr style=\"text-align: right;\">\n",
              "      <th></th>\n",
              "      <th>Academic Year</th>\n",
              "      <th>LSS Number</th>\n",
              "      <th>LSS Name</th>\n",
              "      <th>School Number</th>\n",
              "      <th>School Name</th>\n",
              "      <th>School Type</th>\n",
              "      <th>Attend Rate Pct</th>\n",
              "      <th>Days Attended Cnt</th>\n",
              "      <th>Days Member Cnt</th>\n",
              "      <th>Fewer 5 Pct</th>\n",
              "      <th>Fewer 5 Cnt</th>\n",
              "      <th>More 20 Pct</th>\n",
              "      <th>More 20 Cnt</th>\n",
              "      <th>More 90 Member Cnt</th>\n",
              "      <th>Chronic Absentee Cnt</th>\n",
              "      <th>Chronic Absentee Denom</th>\n",
              "      <th>Chronic Absentee Pct</th>\n",
              "      <th>Create Date</th>\n",
              "    </tr>\n",
              "  </thead>\n",
              "  <tbody>\n",
              "    <tr>\n",
              "      <th>1817</th>\n",
              "      <td>2019</td>\n",
              "      <td>32</td>\n",
              "      <td>SEED</td>\n",
              "      <td>A</td>\n",
              "      <td>All SEED Schools</td>\n",
              "      <td>All Students</td>\n",
              "      <td>&gt;= 95.0</td>\n",
              "      <td>*</td>\n",
              "      <td>*</td>\n",
              "      <td>39.8</td>\n",
              "      <td>154</td>\n",
              "      <td>6.7</td>\n",
              "      <td>26</td>\n",
              "      <td>387</td>\n",
              "      <td>49</td>\n",
              "      <td>405</td>\n",
              "      <td>12.1</td>\n",
              "      <td>20200117</td>\n",
              "    </tr>\n",
              "    <tr>\n",
              "      <th>1818</th>\n",
              "      <td>2019</td>\n",
              "      <td>A</td>\n",
              "      <td>All Public Schools</td>\n",
              "      <td>A</td>\n",
              "      <td>All Maryland Schools</td>\n",
              "      <td>Elementary</td>\n",
              "      <td>94.8</td>\n",
              "      <td>44734014.0</td>\n",
              "      <td>47205434</td>\n",
              "      <td>30.6</td>\n",
              "      <td>104168</td>\n",
              "      <td>10.0</td>\n",
              "      <td>34104</td>\n",
              "      <td>339940</td>\n",
              "      <td>62189</td>\n",
              "      <td>414127</td>\n",
              "      <td>15.0</td>\n",
              "      <td>20200117</td>\n",
              "    </tr>\n",
              "    <tr>\n",
              "      <th>1819</th>\n",
              "      <td>2019</td>\n",
              "      <td>A</td>\n",
              "      <td>All Public Schools</td>\n",
              "      <td>A</td>\n",
              "      <td>All Maryland Schools</td>\n",
              "      <td>Middle</td>\n",
              "      <td>94.4</td>\n",
              "      <td>26588335.0</td>\n",
              "      <td>28177877</td>\n",
              "      <td>32.2</td>\n",
              "      <td>65266</td>\n",
              "      <td>12.9</td>\n",
              "      <td>26210</td>\n",
              "      <td>202570</td>\n",
              "      <td>35458</td>\n",
              "      <td>206861</td>\n",
              "      <td>17.1</td>\n",
              "      <td>20200117</td>\n",
              "    </tr>\n",
              "    <tr>\n",
              "      <th>1820</th>\n",
              "      <td>2019</td>\n",
              "      <td>A</td>\n",
              "      <td>All Public Schools</td>\n",
              "      <td>A</td>\n",
              "      <td>All Maryland Schools</td>\n",
              "      <td>High</td>\n",
              "      <td>91.1</td>\n",
              "      <td>32981551.0</td>\n",
              "      <td>36207676</td>\n",
              "      <td>27.2</td>\n",
              "      <td>70714</td>\n",
              "      <td>22.6</td>\n",
              "      <td>58779</td>\n",
              "      <td>259711</td>\n",
              "      <td>75556</td>\n",
              "      <td>268635</td>\n",
              "      <td>28.1</td>\n",
              "      <td>20200117</td>\n",
              "    </tr>\n",
              "    <tr>\n",
              "      <th>1821</th>\n",
              "      <td>2019</td>\n",
              "      <td>A</td>\n",
              "      <td>All Public Schools</td>\n",
              "      <td>A</td>\n",
              "      <td>All Maryland Schools</td>\n",
              "      <td>All Students</td>\n",
              "      <td>93.5</td>\n",
              "      <td>104303900.0</td>\n",
              "      <td>111590987</td>\n",
              "      <td>29.9</td>\n",
              "      <td>240148</td>\n",
              "      <td>14.8</td>\n",
              "      <td>119093</td>\n",
              "      <td>802221</td>\n",
              "      <td>173203</td>\n",
              "      <td>889623</td>\n",
              "      <td>19.5</td>\n",
              "      <td>20200117</td>\n",
              "    </tr>\n",
              "  </tbody>\n",
              "</table>\n",
              "</div>"
            ],
            "text/plain": [
              "      Academic Year LSS Number  ... Chronic Absentee Pct Create Date\n",
              "1817           2019         32  ...                 12.1    20200117\n",
              "1818           2019          A  ...                 15.0    20200117\n",
              "1819           2019          A  ...                 17.1    20200117\n",
              "1820           2019          A  ...                 28.1    20200117\n",
              "1821           2019          A  ...                 19.5    20200117\n",
              "\n",
              "[5 rows x 18 columns]"
            ]
          },
          "metadata": {
            "tags": []
          },
          "execution_count": 71
        }
      ]
    },
    {
      "cell_type": "code",
      "metadata": {
        "id": "9-P2FKxWiPmC",
        "outputId": "a1d41230-1c93-4655-e608-85a3cafbfe1a",
        "colab": {
          "base_uri": "https://localhost:8080/"
        }
      },
      "source": [
        "df_19_enroll.columns"
      ],
      "execution_count": null,
      "outputs": [
        {
          "output_type": "execute_result",
          "data": {
            "text/plain": [
              "Index(['Academic Year', 'LSS Number', 'LSS Name', 'School Number',\n",
              "       'School Name', 'Grade', 'Enrolled Count', 'Create Date'],\n",
              "      dtype='object')"
            ]
          },
          "metadata": {
            "tags": []
          },
          "execution_count": 72
        }
      ]
    },
    {
      "cell_type": "code",
      "metadata": {
        "id": "awEh5NJBiUR2",
        "outputId": "86f826e1-b605-41ae-a86c-90e740f58360",
        "colab": {
          "base_uri": "https://localhost:8080/"
        }
      },
      "source": [
        "df_19_enroll[\"LSS Name\"].unique()"
      ],
      "execution_count": null,
      "outputs": [
        {
          "output_type": "execute_result",
          "data": {
            "text/plain": [
              "array(['Allegany', 'Anne Arundel', 'Baltimore County', 'Calvert',\n",
              "       'Caroline', 'Carroll', 'Cecil', 'Charles', 'Dorchester',\n",
              "       'Frederick', 'Garrett', 'Harford', 'Howard', 'Kent', 'Montgomery',\n",
              "       \"Prince George's\", \"Queen Anne's\", \"Saint Mary's\", 'Somerset',\n",
              "       'Talbot', 'Washington', 'Wicomico', 'Worcester', 'Baltimore City',\n",
              "       'SEED', 'All Public Schools'], dtype=object)"
            ]
          },
          "metadata": {
            "tags": []
          },
          "execution_count": 73
        }
      ]
    },
    {
      "cell_type": "markdown",
      "metadata": {
        "id": "ibvQ5g71gTa9"
      },
      "source": [
        " # Filter data for baltimore city only\n",
        " "
      ]
    },
    {
      "cell_type": "code",
      "metadata": {
        "id": "LU2SuCzdnC7T",
        "outputId": "0acbe755-4851-4584-ed20-49f16de9b636",
        "colab": {
          "base_uri": "https://localhost:8080/"
        }
      },
      "source": [
        "# look at all of the column names\n",
        "df_19_enroll.columns"
      ],
      "execution_count": null,
      "outputs": [
        {
          "output_type": "execute_result",
          "data": {
            "text/plain": [
              "Index(['Academic Year', 'LSS Number', 'LSS Name', 'School Number',\n",
              "       'School Name', 'Grade', 'Enrolled Count', 'Create Date'],\n",
              "      dtype='object')"
            ]
          },
          "metadata": {
            "tags": []
          },
          "execution_count": 74
        }
      ]
    },
    {
      "cell_type": "code",
      "metadata": {
        "id": "GsdfA2p_nDD3",
        "outputId": "587f762b-3bf6-4506-b47e-36e8b0afc856",
        "colab": {
          "base_uri": "https://localhost:8080/"
        }
      },
      "source": [
        "# look at unique values in LSS name\n",
        "df_19_enroll[\"LSS Name\"].unique()"
      ],
      "execution_count": null,
      "outputs": [
        {
          "output_type": "execute_result",
          "data": {
            "text/plain": [
              "array(['Allegany', 'Anne Arundel', 'Baltimore County', 'Calvert',\n",
              "       'Caroline', 'Carroll', 'Cecil', 'Charles', 'Dorchester',\n",
              "       'Frederick', 'Garrett', 'Harford', 'Howard', 'Kent', 'Montgomery',\n",
              "       \"Prince George's\", \"Queen Anne's\", \"Saint Mary's\", 'Somerset',\n",
              "       'Talbot', 'Washington', 'Wicomico', 'Worcester', 'Baltimore City',\n",
              "       'SEED', 'All Public Schools'], dtype=object)"
            ]
          },
          "metadata": {
            "tags": []
          },
          "execution_count": 75
        }
      ]
    },
    {
      "cell_type": "code",
      "metadata": {
        "id": "-vo-aO5vnDVG",
        "outputId": "d5023b14-9c9c-4fb2-ea7c-58b274f5b02f",
        "colab": {
          "base_uri": "https://localhost:8080/"
        }
      },
      "source": [
        "df_19_enroll[\"School Name\"].nunique()"
      ],
      "execution_count": null,
      "outputs": [
        {
          "output_type": "execute_result",
          "data": {
            "text/plain": [
              "1395"
            ]
          },
          "metadata": {
            "tags": []
          },
          "execution_count": 76
        }
      ]
    },
    {
      "cell_type": "code",
      "metadata": {
        "id": "FoMRxEnonDhC",
        "outputId": "26fd816a-d206-4b6e-e477-2b8e1e56b86f",
        "colab": {
          "base_uri": "https://localhost:8080/"
        }
      },
      "source": [
        "df_19_enroll.info()"
      ],
      "execution_count": null,
      "outputs": [
        {
          "output_type": "stream",
          "text": [
            "<class 'pandas.core.frame.DataFrame'>\n",
            "RangeIndex: 9781 entries, 0 to 9780\n",
            "Data columns (total 8 columns):\n",
            " #   Column          Non-Null Count  Dtype \n",
            "---  ------          --------------  ----- \n",
            " 0   Academic Year   9781 non-null   int64 \n",
            " 1   LSS Number      9781 non-null   object\n",
            " 2   LSS Name        9781 non-null   object\n",
            " 3   School Number   9781 non-null   object\n",
            " 4   School Name     9781 non-null   object\n",
            " 5   Grade           9781 non-null   object\n",
            " 6   Enrolled Count  9781 non-null   object\n",
            " 7   Create Date     9781 non-null   int64 \n",
            "dtypes: int64(2), object(6)\n",
            "memory usage: 611.4+ KB\n"
          ],
          "name": "stdout"
        }
      ]
    },
    {
      "cell_type": "code",
      "metadata": {
        "id": "Da6npnZ6nDts",
        "outputId": "70e793d8-69e3-4b21-b543-83b3c36874f0",
        "colab": {
          "base_uri": "https://localhost:8080/",
          "height": 297
        }
      },
      "source": [
        "df_19_enroll.describe()"
      ],
      "execution_count": null,
      "outputs": [
        {
          "output_type": "execute_result",
          "data": {
            "text/html": [
              "<div>\n",
              "<style scoped>\n",
              "    .dataframe tbody tr th:only-of-type {\n",
              "        vertical-align: middle;\n",
              "    }\n",
              "\n",
              "    .dataframe tbody tr th {\n",
              "        vertical-align: top;\n",
              "    }\n",
              "\n",
              "    .dataframe thead th {\n",
              "        text-align: right;\n",
              "    }\n",
              "</style>\n",
              "<table border=\"1\" class=\"dataframe\">\n",
              "  <thead>\n",
              "    <tr style=\"text-align: right;\">\n",
              "      <th></th>\n",
              "      <th>Academic Year</th>\n",
              "      <th>Create Date</th>\n",
              "    </tr>\n",
              "  </thead>\n",
              "  <tbody>\n",
              "    <tr>\n",
              "      <th>count</th>\n",
              "      <td>9781.0</td>\n",
              "      <td>9781.0</td>\n",
              "    </tr>\n",
              "    <tr>\n",
              "      <th>mean</th>\n",
              "      <td>2019.0</td>\n",
              "      <td>20190903.0</td>\n",
              "    </tr>\n",
              "    <tr>\n",
              "      <th>std</th>\n",
              "      <td>0.0</td>\n",
              "      <td>0.0</td>\n",
              "    </tr>\n",
              "    <tr>\n",
              "      <th>min</th>\n",
              "      <td>2019.0</td>\n",
              "      <td>20190903.0</td>\n",
              "    </tr>\n",
              "    <tr>\n",
              "      <th>25%</th>\n",
              "      <td>2019.0</td>\n",
              "      <td>20190903.0</td>\n",
              "    </tr>\n",
              "    <tr>\n",
              "      <th>50%</th>\n",
              "      <td>2019.0</td>\n",
              "      <td>20190903.0</td>\n",
              "    </tr>\n",
              "    <tr>\n",
              "      <th>75%</th>\n",
              "      <td>2019.0</td>\n",
              "      <td>20190903.0</td>\n",
              "    </tr>\n",
              "    <tr>\n",
              "      <th>max</th>\n",
              "      <td>2019.0</td>\n",
              "      <td>20190903.0</td>\n",
              "    </tr>\n",
              "  </tbody>\n",
              "</table>\n",
              "</div>"
            ],
            "text/plain": [
              "       Academic Year  Create Date\n",
              "count         9781.0       9781.0\n",
              "mean          2019.0   20190903.0\n",
              "std              0.0          0.0\n",
              "min           2019.0   20190903.0\n",
              "25%           2019.0   20190903.0\n",
              "50%           2019.0   20190903.0\n",
              "75%           2019.0   20190903.0\n",
              "max           2019.0   20190903.0"
            ]
          },
          "metadata": {
            "tags": []
          },
          "execution_count": 78
        }
      ]
    },
    {
      "cell_type": "code",
      "metadata": {
        "id": "X5mQJ6ZznDzI",
        "outputId": "b21ef44a-5962-4dac-927e-bacaf58c9ff8",
        "colab": {
          "base_uri": "https://localhost:8080/",
          "height": 204
        }
      },
      "source": [
        "df_19_enroll.head()"
      ],
      "execution_count": null,
      "outputs": [
        {
          "output_type": "execute_result",
          "data": {
            "text/html": [
              "<div>\n",
              "<style scoped>\n",
              "    .dataframe tbody tr th:only-of-type {\n",
              "        vertical-align: middle;\n",
              "    }\n",
              "\n",
              "    .dataframe tbody tr th {\n",
              "        vertical-align: top;\n",
              "    }\n",
              "\n",
              "    .dataframe thead th {\n",
              "        text-align: right;\n",
              "    }\n",
              "</style>\n",
              "<table border=\"1\" class=\"dataframe\">\n",
              "  <thead>\n",
              "    <tr style=\"text-align: right;\">\n",
              "      <th></th>\n",
              "      <th>Academic Year</th>\n",
              "      <th>LSS Number</th>\n",
              "      <th>LSS Name</th>\n",
              "      <th>School Number</th>\n",
              "      <th>School Name</th>\n",
              "      <th>Grade</th>\n",
              "      <th>Enrolled Count</th>\n",
              "      <th>Create Date</th>\n",
              "    </tr>\n",
              "  </thead>\n",
              "  <tbody>\n",
              "    <tr>\n",
              "      <th>0</th>\n",
              "      <td>2019</td>\n",
              "      <td>01</td>\n",
              "      <td>Allegany</td>\n",
              "      <td>0301</td>\n",
              "      <td>Flintstone Elementary</td>\n",
              "      <td>Prekindergarten</td>\n",
              "      <td>13</td>\n",
              "      <td>20190903</td>\n",
              "    </tr>\n",
              "    <tr>\n",
              "      <th>1</th>\n",
              "      <td>2019</td>\n",
              "      <td>01</td>\n",
              "      <td>Allegany</td>\n",
              "      <td>0301</td>\n",
              "      <td>Flintstone Elementary</td>\n",
              "      <td>Kindergarten</td>\n",
              "      <td>31</td>\n",
              "      <td>20190903</td>\n",
              "    </tr>\n",
              "    <tr>\n",
              "      <th>2</th>\n",
              "      <td>2019</td>\n",
              "      <td>01</td>\n",
              "      <td>Allegany</td>\n",
              "      <td>0301</td>\n",
              "      <td>Flintstone Elementary</td>\n",
              "      <td>Grade 1</td>\n",
              "      <td>36</td>\n",
              "      <td>20190903</td>\n",
              "    </tr>\n",
              "    <tr>\n",
              "      <th>3</th>\n",
              "      <td>2019</td>\n",
              "      <td>01</td>\n",
              "      <td>Allegany</td>\n",
              "      <td>0301</td>\n",
              "      <td>Flintstone Elementary</td>\n",
              "      <td>Grade 2</td>\n",
              "      <td>28</td>\n",
              "      <td>20190903</td>\n",
              "    </tr>\n",
              "    <tr>\n",
              "      <th>4</th>\n",
              "      <td>2019</td>\n",
              "      <td>01</td>\n",
              "      <td>Allegany</td>\n",
              "      <td>0301</td>\n",
              "      <td>Flintstone Elementary</td>\n",
              "      <td>Grade 3</td>\n",
              "      <td>40</td>\n",
              "      <td>20190903</td>\n",
              "    </tr>\n",
              "  </tbody>\n",
              "</table>\n",
              "</div>"
            ],
            "text/plain": [
              "   Academic Year LSS Number  ... Enrolled Count Create Date\n",
              "0           2019         01  ...             13    20190903\n",
              "1           2019         01  ...             31    20190903\n",
              "2           2019         01  ...             36    20190903\n",
              "3           2019         01  ...             28    20190903\n",
              "4           2019         01  ...             40    20190903\n",
              "\n",
              "[5 rows x 8 columns]"
            ]
          },
          "metadata": {
            "tags": []
          },
          "execution_count": 79
        }
      ]
    },
    {
      "cell_type": "code",
      "metadata": {
        "id": "jW2GSQtepXpu"
      },
      "source": [
        "# filter data for baltimore city only\n",
        "df_19_enroll_bmore = df_19_enroll[df_19_enroll[\"LSS Name\"] == \"Baltimore City\"]"
      ],
      "execution_count": null,
      "outputs": []
    },
    {
      "cell_type": "code",
      "metadata": {
        "id": "xRfC1eMopXta",
        "outputId": "b4134164-ac72-403d-84bf-d8e347a3e71f",
        "colab": {
          "base_uri": "https://localhost:8080/",
          "height": 359
        }
      },
      "source": [
        "#preview bmore only data\n",
        "df_19_enroll_bmore.head(10)"
      ],
      "execution_count": null,
      "outputs": [
        {
          "output_type": "execute_result",
          "data": {
            "text/html": [
              "<div>\n",
              "<style scoped>\n",
              "    .dataframe tbody tr th:only-of-type {\n",
              "        vertical-align: middle;\n",
              "    }\n",
              "\n",
              "    .dataframe tbody tr th {\n",
              "        vertical-align: top;\n",
              "    }\n",
              "\n",
              "    .dataframe thead th {\n",
              "        text-align: right;\n",
              "    }\n",
              "</style>\n",
              "<table border=\"1\" class=\"dataframe\">\n",
              "  <thead>\n",
              "    <tr style=\"text-align: right;\">\n",
              "      <th></th>\n",
              "      <th>Academic Year</th>\n",
              "      <th>LSS Number</th>\n",
              "      <th>LSS Name</th>\n",
              "      <th>School Number</th>\n",
              "      <th>School Name</th>\n",
              "      <th>Grade</th>\n",
              "      <th>Enrolled Count</th>\n",
              "      <th>Create Date</th>\n",
              "    </tr>\n",
              "  </thead>\n",
              "  <tbody>\n",
              "    <tr>\n",
              "      <th>8347</th>\n",
              "      <td>2019</td>\n",
              "      <td>30</td>\n",
              "      <td>Baltimore City</td>\n",
              "      <td>0004</td>\n",
              "      <td>Steuart Hill Academic Academy</td>\n",
              "      <td>Prekindergarten</td>\n",
              "      <td>40</td>\n",
              "      <td>20190903</td>\n",
              "    </tr>\n",
              "    <tr>\n",
              "      <th>8348</th>\n",
              "      <td>2019</td>\n",
              "      <td>30</td>\n",
              "      <td>Baltimore City</td>\n",
              "      <td>0004</td>\n",
              "      <td>Steuart Hill Academic Academy</td>\n",
              "      <td>Kindergarten</td>\n",
              "      <td>30</td>\n",
              "      <td>20190903</td>\n",
              "    </tr>\n",
              "    <tr>\n",
              "      <th>8349</th>\n",
              "      <td>2019</td>\n",
              "      <td>30</td>\n",
              "      <td>Baltimore City</td>\n",
              "      <td>0004</td>\n",
              "      <td>Steuart Hill Academic Academy</td>\n",
              "      <td>Grade 1</td>\n",
              "      <td>47</td>\n",
              "      <td>20190903</td>\n",
              "    </tr>\n",
              "    <tr>\n",
              "      <th>8350</th>\n",
              "      <td>2019</td>\n",
              "      <td>30</td>\n",
              "      <td>Baltimore City</td>\n",
              "      <td>0004</td>\n",
              "      <td>Steuart Hill Academic Academy</td>\n",
              "      <td>Grade 2</td>\n",
              "      <td>39</td>\n",
              "      <td>20190903</td>\n",
              "    </tr>\n",
              "    <tr>\n",
              "      <th>8351</th>\n",
              "      <td>2019</td>\n",
              "      <td>30</td>\n",
              "      <td>Baltimore City</td>\n",
              "      <td>0004</td>\n",
              "      <td>Steuart Hill Academic Academy</td>\n",
              "      <td>Grade 3</td>\n",
              "      <td>25</td>\n",
              "      <td>20190903</td>\n",
              "    </tr>\n",
              "    <tr>\n",
              "      <th>8352</th>\n",
              "      <td>2019</td>\n",
              "      <td>30</td>\n",
              "      <td>Baltimore City</td>\n",
              "      <td>0004</td>\n",
              "      <td>Steuart Hill Academic Academy</td>\n",
              "      <td>Grade 4</td>\n",
              "      <td>33</td>\n",
              "      <td>20190903</td>\n",
              "    </tr>\n",
              "    <tr>\n",
              "      <th>8353</th>\n",
              "      <td>2019</td>\n",
              "      <td>30</td>\n",
              "      <td>Baltimore City</td>\n",
              "      <td>0004</td>\n",
              "      <td>Steuart Hill Academic Academy</td>\n",
              "      <td>Grade 5</td>\n",
              "      <td>34</td>\n",
              "      <td>20190903</td>\n",
              "    </tr>\n",
              "    <tr>\n",
              "      <th>8354</th>\n",
              "      <td>2019</td>\n",
              "      <td>30</td>\n",
              "      <td>Baltimore City</td>\n",
              "      <td>0004</td>\n",
              "      <td>Steuart Hill Academic Academy</td>\n",
              "      <td>Total Enrollment</td>\n",
              "      <td>248</td>\n",
              "      <td>20190903</td>\n",
              "    </tr>\n",
              "    <tr>\n",
              "      <th>8355</th>\n",
              "      <td>2019</td>\n",
              "      <td>30</td>\n",
              "      <td>Baltimore City</td>\n",
              "      <td>0007</td>\n",
              "      <td>Cecil Elementary</td>\n",
              "      <td>Prekindergarten</td>\n",
              "      <td>59</td>\n",
              "      <td>20190903</td>\n",
              "    </tr>\n",
              "    <tr>\n",
              "      <th>8356</th>\n",
              "      <td>2019</td>\n",
              "      <td>30</td>\n",
              "      <td>Baltimore City</td>\n",
              "      <td>0007</td>\n",
              "      <td>Cecil Elementary</td>\n",
              "      <td>Kindergarten</td>\n",
              "      <td>56</td>\n",
              "      <td>20190903</td>\n",
              "    </tr>\n",
              "  </tbody>\n",
              "</table>\n",
              "</div>"
            ],
            "text/plain": [
              "      Academic Year LSS Number  ... Enrolled Count Create Date\n",
              "8347           2019         30  ...             40    20190903\n",
              "8348           2019         30  ...             30    20190903\n",
              "8349           2019         30  ...             47    20190903\n",
              "8350           2019         30  ...             39    20190903\n",
              "8351           2019         30  ...             25    20190903\n",
              "8352           2019         30  ...             33    20190903\n",
              "8353           2019         30  ...             34    20190903\n",
              "8354           2019         30  ...            248    20190903\n",
              "8355           2019         30  ...             59    20190903\n",
              "8356           2019         30  ...             56    20190903\n",
              "\n",
              "[10 rows x 8 columns]"
            ]
          },
          "metadata": {
            "tags": []
          },
          "execution_count": 81
        }
      ]
    },
    {
      "cell_type": "code",
      "metadata": {
        "id": "hOIk4D6JpYP7"
      },
      "source": [
        "# filter by total enrollment\n",
        "df_19_enroll_bmore = df_19_enroll_bmore[df_19_enroll_bmore[\"Grade\"] == \"Total Enrollment\"]"
      ],
      "execution_count": null,
      "outputs": []
    },
    {
      "cell_type": "code",
      "metadata": {
        "id": "1rIGRF8opYKz",
        "outputId": "451866d4-683e-42c3-c5fd-4c5554700dac",
        "colab": {
          "base_uri": "https://localhost:8080/",
          "height": 359
        }
      },
      "source": [
        "#preview data\n",
        "df_19_enroll_bmore.head(10)"
      ],
      "execution_count": null,
      "outputs": [
        {
          "output_type": "execute_result",
          "data": {
            "text/html": [
              "<div>\n",
              "<style scoped>\n",
              "    .dataframe tbody tr th:only-of-type {\n",
              "        vertical-align: middle;\n",
              "    }\n",
              "\n",
              "    .dataframe tbody tr th {\n",
              "        vertical-align: top;\n",
              "    }\n",
              "\n",
              "    .dataframe thead th {\n",
              "        text-align: right;\n",
              "    }\n",
              "</style>\n",
              "<table border=\"1\" class=\"dataframe\">\n",
              "  <thead>\n",
              "    <tr style=\"text-align: right;\">\n",
              "      <th></th>\n",
              "      <th>Academic Year</th>\n",
              "      <th>LSS Number</th>\n",
              "      <th>LSS Name</th>\n",
              "      <th>School Number</th>\n",
              "      <th>School Name</th>\n",
              "      <th>Grade</th>\n",
              "      <th>Enrolled Count</th>\n",
              "      <th>Create Date</th>\n",
              "    </tr>\n",
              "  </thead>\n",
              "  <tbody>\n",
              "    <tr>\n",
              "      <th>8354</th>\n",
              "      <td>2019</td>\n",
              "      <td>30</td>\n",
              "      <td>Baltimore City</td>\n",
              "      <td>0004</td>\n",
              "      <td>Steuart Hill Academic Academy</td>\n",
              "      <td>Total Enrollment</td>\n",
              "      <td>248</td>\n",
              "      <td>20190903</td>\n",
              "    </tr>\n",
              "    <tr>\n",
              "      <th>8362</th>\n",
              "      <td>2019</td>\n",
              "      <td>30</td>\n",
              "      <td>Baltimore City</td>\n",
              "      <td>0007</td>\n",
              "      <td>Cecil Elementary</td>\n",
              "      <td>Total Enrollment</td>\n",
              "      <td>345</td>\n",
              "      <td>20190903</td>\n",
              "    </tr>\n",
              "    <tr>\n",
              "      <th>8373</th>\n",
              "      <td>2019</td>\n",
              "      <td>30</td>\n",
              "      <td>Baltimore City</td>\n",
              "      <td>0008</td>\n",
              "      <td>City Springs Elementary/Middle</td>\n",
              "      <td>Total Enrollment</td>\n",
              "      <td>704</td>\n",
              "      <td>20190903</td>\n",
              "    </tr>\n",
              "    <tr>\n",
              "      <th>8384</th>\n",
              "      <td>2019</td>\n",
              "      <td>30</td>\n",
              "      <td>Baltimore City</td>\n",
              "      <td>0010</td>\n",
              "      <td>James McHenry Elementary/Middle</td>\n",
              "      <td>Total Enrollment</td>\n",
              "      <td>512</td>\n",
              "      <td>20190903</td>\n",
              "    </tr>\n",
              "    <tr>\n",
              "      <th>8392</th>\n",
              "      <td>2019</td>\n",
              "      <td>30</td>\n",
              "      <td>Baltimore City</td>\n",
              "      <td>0011</td>\n",
              "      <td>Eutaw-Marshburn Elementary</td>\n",
              "      <td>Total Enrollment</td>\n",
              "      <td>259</td>\n",
              "      <td>20190903</td>\n",
              "    </tr>\n",
              "    <tr>\n",
              "      <th>8403</th>\n",
              "      <td>2019</td>\n",
              "      <td>30</td>\n",
              "      <td>Baltimore City</td>\n",
              "      <td>0012</td>\n",
              "      <td>Lakeland Elementary/Middle</td>\n",
              "      <td>Total Enrollment</td>\n",
              "      <td>909</td>\n",
              "      <td>20190903</td>\n",
              "    </tr>\n",
              "    <tr>\n",
              "      <th>8414</th>\n",
              "      <td>2019</td>\n",
              "      <td>30</td>\n",
              "      <td>Baltimore City</td>\n",
              "      <td>0013</td>\n",
              "      <td>Tench Tilghman Elementary/Middle</td>\n",
              "      <td>Total Enrollment</td>\n",
              "      <td>397</td>\n",
              "      <td>20190903</td>\n",
              "    </tr>\n",
              "    <tr>\n",
              "      <th>8418</th>\n",
              "      <td>2019</td>\n",
              "      <td>30</td>\n",
              "      <td>Baltimore City</td>\n",
              "      <td>0015</td>\n",
              "      <td>Stadium School</td>\n",
              "      <td>Total Enrollment</td>\n",
              "      <td>352</td>\n",
              "      <td>20190903</td>\n",
              "    </tr>\n",
              "    <tr>\n",
              "      <th>8426</th>\n",
              "      <td>2019</td>\n",
              "      <td>30</td>\n",
              "      <td>Baltimore City</td>\n",
              "      <td>0016</td>\n",
              "      <td>Johnston Square Elementary</td>\n",
              "      <td>Total Enrollment</td>\n",
              "      <td>284</td>\n",
              "      <td>20190903</td>\n",
              "    </tr>\n",
              "    <tr>\n",
              "      <th>8434</th>\n",
              "      <td>2019</td>\n",
              "      <td>30</td>\n",
              "      <td>Baltimore City</td>\n",
              "      <td>0021</td>\n",
              "      <td>Hilton Elementary</td>\n",
              "      <td>Total Enrollment</td>\n",
              "      <td>356</td>\n",
              "      <td>20190903</td>\n",
              "    </tr>\n",
              "  </tbody>\n",
              "</table>\n",
              "</div>"
            ],
            "text/plain": [
              "      Academic Year LSS Number  ... Enrolled Count Create Date\n",
              "8354           2019         30  ...            248    20190903\n",
              "8362           2019         30  ...            345    20190903\n",
              "8373           2019         30  ...            704    20190903\n",
              "8384           2019         30  ...            512    20190903\n",
              "8392           2019         30  ...            259    20190903\n",
              "8403           2019         30  ...            909    20190903\n",
              "8414           2019         30  ...            397    20190903\n",
              "8418           2019         30  ...            352    20190903\n",
              "8426           2019         30  ...            284    20190903\n",
              "8434           2019         30  ...            356    20190903\n",
              "\n",
              "[10 rows x 8 columns]"
            ]
          },
          "metadata": {
            "tags": []
          },
          "execution_count": 83
        }
      ]
    },
    {
      "cell_type": "code",
      "metadata": {
        "id": "5UohbDdLpXkr"
      },
      "source": [
        "# filter 2020 enrollment data \n",
        "df_20_enroll_bmore = df_20_enroll[(df_20_enroll[\"LSS Name\"] == \"Baltimore City\") & (df_20_enroll[\"Grade\"] == \"All Grades\")]"
      ],
      "execution_count": null,
      "outputs": []
    },
    {
      "cell_type": "code",
      "metadata": {
        "id": "G7sZt6bRq_F5",
        "outputId": "fc22b625-f1eb-49b3-9494-afda9663e3ee",
        "colab": {
          "base_uri": "https://localhost:8080/",
          "height": 359
        }
      },
      "source": [
        "df_20_enroll_bmore.head(10)"
      ],
      "execution_count": null,
      "outputs": [
        {
          "output_type": "execute_result",
          "data": {
            "text/html": [
              "<div>\n",
              "<style scoped>\n",
              "    .dataframe tbody tr th:only-of-type {\n",
              "        vertical-align: middle;\n",
              "    }\n",
              "\n",
              "    .dataframe tbody tr th {\n",
              "        vertical-align: top;\n",
              "    }\n",
              "\n",
              "    .dataframe thead th {\n",
              "        text-align: right;\n",
              "    }\n",
              "</style>\n",
              "<table border=\"1\" class=\"dataframe\">\n",
              "  <thead>\n",
              "    <tr style=\"text-align: right;\">\n",
              "      <th></th>\n",
              "      <th>Year</th>\n",
              "      <th>LSS</th>\n",
              "      <th>LSS Name</th>\n",
              "      <th>School</th>\n",
              "      <th>School Name</th>\n",
              "      <th>Grade</th>\n",
              "      <th>Enrolled Count</th>\n",
              "      <th>Create Date</th>\n",
              "    </tr>\n",
              "  </thead>\n",
              "  <tbody>\n",
              "    <tr>\n",
              "      <th>8379</th>\n",
              "      <td>2020</td>\n",
              "      <td>30</td>\n",
              "      <td>Baltimore City</td>\n",
              "      <td>0004</td>\n",
              "      <td>Steuart Hill Academic Academy</td>\n",
              "      <td>All Grades</td>\n",
              "      <td>250</td>\n",
              "      <td>20200805</td>\n",
              "    </tr>\n",
              "    <tr>\n",
              "      <th>8387</th>\n",
              "      <td>2020</td>\n",
              "      <td>30</td>\n",
              "      <td>Baltimore City</td>\n",
              "      <td>0007</td>\n",
              "      <td>Cecil Elementary</td>\n",
              "      <td>All Grades</td>\n",
              "      <td>391</td>\n",
              "      <td>20200805</td>\n",
              "    </tr>\n",
              "    <tr>\n",
              "      <th>8398</th>\n",
              "      <td>2020</td>\n",
              "      <td>30</td>\n",
              "      <td>Baltimore City</td>\n",
              "      <td>0008</td>\n",
              "      <td>City Springs Elementary/Middle</td>\n",
              "      <td>All Grades</td>\n",
              "      <td>703</td>\n",
              "      <td>20200805</td>\n",
              "    </tr>\n",
              "    <tr>\n",
              "      <th>8409</th>\n",
              "      <td>2020</td>\n",
              "      <td>30</td>\n",
              "      <td>Baltimore City</td>\n",
              "      <td>0010</td>\n",
              "      <td>James McHenry Elementary/Middle</td>\n",
              "      <td>All Grades</td>\n",
              "      <td>625</td>\n",
              "      <td>20200805</td>\n",
              "    </tr>\n",
              "    <tr>\n",
              "      <th>8417</th>\n",
              "      <td>2020</td>\n",
              "      <td>30</td>\n",
              "      <td>Baltimore City</td>\n",
              "      <td>0011</td>\n",
              "      <td>Eutaw-Marshburn Elementary</td>\n",
              "      <td>All Grades</td>\n",
              "      <td>271</td>\n",
              "      <td>20200805</td>\n",
              "    </tr>\n",
              "    <tr>\n",
              "      <th>8428</th>\n",
              "      <td>2020</td>\n",
              "      <td>30</td>\n",
              "      <td>Baltimore City</td>\n",
              "      <td>0012</td>\n",
              "      <td>Lakeland Elementary/Middle</td>\n",
              "      <td>All Grades</td>\n",
              "      <td>998</td>\n",
              "      <td>20200805</td>\n",
              "    </tr>\n",
              "    <tr>\n",
              "      <th>8439</th>\n",
              "      <td>2020</td>\n",
              "      <td>30</td>\n",
              "      <td>Baltimore City</td>\n",
              "      <td>0013</td>\n",
              "      <td>Tench Tilghman Elementary/Middle</td>\n",
              "      <td>All Grades</td>\n",
              "      <td>398</td>\n",
              "      <td>20200805</td>\n",
              "    </tr>\n",
              "    <tr>\n",
              "      <th>8443</th>\n",
              "      <td>2020</td>\n",
              "      <td>30</td>\n",
              "      <td>Baltimore City</td>\n",
              "      <td>0015</td>\n",
              "      <td>Stadium School</td>\n",
              "      <td>All Grades</td>\n",
              "      <td>415</td>\n",
              "      <td>20200805</td>\n",
              "    </tr>\n",
              "    <tr>\n",
              "      <th>8451</th>\n",
              "      <td>2020</td>\n",
              "      <td>30</td>\n",
              "      <td>Baltimore City</td>\n",
              "      <td>0016</td>\n",
              "      <td>Johnston Square Elementary</td>\n",
              "      <td>All Grades</td>\n",
              "      <td>291</td>\n",
              "      <td>20200805</td>\n",
              "    </tr>\n",
              "    <tr>\n",
              "      <th>8459</th>\n",
              "      <td>2020</td>\n",
              "      <td>30</td>\n",
              "      <td>Baltimore City</td>\n",
              "      <td>0021</td>\n",
              "      <td>Hilton Elementary</td>\n",
              "      <td>All Grades</td>\n",
              "      <td>365</td>\n",
              "      <td>20200805</td>\n",
              "    </tr>\n",
              "  </tbody>\n",
              "</table>\n",
              "</div>"
            ],
            "text/plain": [
              "      Year LSS        LSS Name  ...       Grade Enrolled Count Create Date\n",
              "8379  2020  30  Baltimore City  ...  All Grades            250    20200805\n",
              "8387  2020  30  Baltimore City  ...  All Grades            391    20200805\n",
              "8398  2020  30  Baltimore City  ...  All Grades            703    20200805\n",
              "8409  2020  30  Baltimore City  ...  All Grades            625    20200805\n",
              "8417  2020  30  Baltimore City  ...  All Grades            271    20200805\n",
              "8428  2020  30  Baltimore City  ...  All Grades            998    20200805\n",
              "8439  2020  30  Baltimore City  ...  All Grades            398    20200805\n",
              "8443  2020  30  Baltimore City  ...  All Grades            415    20200805\n",
              "8451  2020  30  Baltimore City  ...  All Grades            291    20200805\n",
              "8459  2020  30  Baltimore City  ...  All Grades            365    20200805\n",
              "\n",
              "[10 rows x 8 columns]"
            ]
          },
          "metadata": {
            "tags": []
          },
          "execution_count": 85
        }
      ]
    },
    {
      "cell_type": "markdown",
      "metadata": {
        "id": "8KWYG3bvrXE8"
      },
      "source": [
        "# Merge 2019 and 2020 Enrollment"
      ]
    },
    {
      "cell_type": "code",
      "metadata": {
        "id": "MNxcajCCnDnE"
      },
      "source": [
        "#merge 2019 and 2020 data\n",
        "\n",
        "df_10_20_merge = pd.merge(df_19_enroll_bmore, \n",
        "                          df_20_enroll_bmore[[\"School Name\", \"Enrolled Count\"]], \n",
        "                          how = \"left\", \n",
        "                          on = \"School Name\")"
      ],
      "execution_count": null,
      "outputs": []
    },
    {
      "cell_type": "code",
      "metadata": {
        "id": "DJUzhl81nDbd",
        "outputId": "beea1463-a0c3-4230-e8d2-1c90153d700b",
        "colab": {
          "base_uri": "https://localhost:8080/",
          "height": 204
        }
      },
      "source": [
        "df_10_20_merge.head()"
      ],
      "execution_count": null,
      "outputs": [
        {
          "output_type": "execute_result",
          "data": {
            "text/html": [
              "<div>\n",
              "<style scoped>\n",
              "    .dataframe tbody tr th:only-of-type {\n",
              "        vertical-align: middle;\n",
              "    }\n",
              "\n",
              "    .dataframe tbody tr th {\n",
              "        vertical-align: top;\n",
              "    }\n",
              "\n",
              "    .dataframe thead th {\n",
              "        text-align: right;\n",
              "    }\n",
              "</style>\n",
              "<table border=\"1\" class=\"dataframe\">\n",
              "  <thead>\n",
              "    <tr style=\"text-align: right;\">\n",
              "      <th></th>\n",
              "      <th>Academic Year</th>\n",
              "      <th>LSS Number</th>\n",
              "      <th>LSS Name</th>\n",
              "      <th>School Number</th>\n",
              "      <th>School Name</th>\n",
              "      <th>Grade</th>\n",
              "      <th>Enrolled Count_x</th>\n",
              "      <th>Create Date</th>\n",
              "      <th>Enrolled Count_y</th>\n",
              "    </tr>\n",
              "  </thead>\n",
              "  <tbody>\n",
              "    <tr>\n",
              "      <th>0</th>\n",
              "      <td>2019</td>\n",
              "      <td>30</td>\n",
              "      <td>Baltimore City</td>\n",
              "      <td>0004</td>\n",
              "      <td>Steuart Hill Academic Academy</td>\n",
              "      <td>Total Enrollment</td>\n",
              "      <td>248</td>\n",
              "      <td>20190903</td>\n",
              "      <td>250</td>\n",
              "    </tr>\n",
              "    <tr>\n",
              "      <th>1</th>\n",
              "      <td>2019</td>\n",
              "      <td>30</td>\n",
              "      <td>Baltimore City</td>\n",
              "      <td>0007</td>\n",
              "      <td>Cecil Elementary</td>\n",
              "      <td>Total Enrollment</td>\n",
              "      <td>345</td>\n",
              "      <td>20190903</td>\n",
              "      <td>391</td>\n",
              "    </tr>\n",
              "    <tr>\n",
              "      <th>2</th>\n",
              "      <td>2019</td>\n",
              "      <td>30</td>\n",
              "      <td>Baltimore City</td>\n",
              "      <td>0008</td>\n",
              "      <td>City Springs Elementary/Middle</td>\n",
              "      <td>Total Enrollment</td>\n",
              "      <td>704</td>\n",
              "      <td>20190903</td>\n",
              "      <td>703</td>\n",
              "    </tr>\n",
              "    <tr>\n",
              "      <th>3</th>\n",
              "      <td>2019</td>\n",
              "      <td>30</td>\n",
              "      <td>Baltimore City</td>\n",
              "      <td>0010</td>\n",
              "      <td>James McHenry Elementary/Middle</td>\n",
              "      <td>Total Enrollment</td>\n",
              "      <td>512</td>\n",
              "      <td>20190903</td>\n",
              "      <td>625</td>\n",
              "    </tr>\n",
              "    <tr>\n",
              "      <th>4</th>\n",
              "      <td>2019</td>\n",
              "      <td>30</td>\n",
              "      <td>Baltimore City</td>\n",
              "      <td>0011</td>\n",
              "      <td>Eutaw-Marshburn Elementary</td>\n",
              "      <td>Total Enrollment</td>\n",
              "      <td>259</td>\n",
              "      <td>20190903</td>\n",
              "      <td>271</td>\n",
              "    </tr>\n",
              "  </tbody>\n",
              "</table>\n",
              "</div>"
            ],
            "text/plain": [
              "   Academic Year LSS Number  ... Create Date Enrolled Count_y\n",
              "0           2019         30  ...    20190903              250\n",
              "1           2019         30  ...    20190903              391\n",
              "2           2019         30  ...    20190903              703\n",
              "3           2019         30  ...    20190903              625\n",
              "4           2019         30  ...    20190903              271\n",
              "\n",
              "[5 rows x 9 columns]"
            ]
          },
          "metadata": {
            "tags": []
          },
          "execution_count": 87
        }
      ]
    },
    {
      "cell_type": "code",
      "metadata": {
        "id": "X2HhcX6vnC_h"
      },
      "source": [
        "# rename x for 2019 and y for 2020\n",
        "df_10_20_merge = df_10_20_merge.rename(columns={\"Enrolled Count_x\": \"Enrolled Count 2019\",\n",
        "                               \"Enrolled Count_y\": \"Enrolled Count 2020\"})"
      ],
      "execution_count": null,
      "outputs": []
    },
    {
      "cell_type": "code",
      "metadata": {
        "id": "_oEB_OsznC3R",
        "outputId": "52f9943d-58b9-4dc2-e14e-28e818aa1529",
        "colab": {
          "base_uri": "https://localhost:8080/",
          "height": 546
        }
      },
      "source": [
        "df_10_20_merge.head(10)"
      ],
      "execution_count": null,
      "outputs": [
        {
          "output_type": "execute_result",
          "data": {
            "text/html": [
              "<div>\n",
              "<style scoped>\n",
              "    .dataframe tbody tr th:only-of-type {\n",
              "        vertical-align: middle;\n",
              "    }\n",
              "\n",
              "    .dataframe tbody tr th {\n",
              "        vertical-align: top;\n",
              "    }\n",
              "\n",
              "    .dataframe thead th {\n",
              "        text-align: right;\n",
              "    }\n",
              "</style>\n",
              "<table border=\"1\" class=\"dataframe\">\n",
              "  <thead>\n",
              "    <tr style=\"text-align: right;\">\n",
              "      <th></th>\n",
              "      <th>Academic Year</th>\n",
              "      <th>LSS Number</th>\n",
              "      <th>LSS Name</th>\n",
              "      <th>School Number</th>\n",
              "      <th>School Name</th>\n",
              "      <th>Grade</th>\n",
              "      <th>Enrolled Count 2019</th>\n",
              "      <th>Create Date</th>\n",
              "      <th>Enrolled Count 2020</th>\n",
              "    </tr>\n",
              "  </thead>\n",
              "  <tbody>\n",
              "    <tr>\n",
              "      <th>0</th>\n",
              "      <td>2019</td>\n",
              "      <td>30</td>\n",
              "      <td>Baltimore City</td>\n",
              "      <td>0004</td>\n",
              "      <td>Steuart Hill Academic Academy</td>\n",
              "      <td>Total Enrollment</td>\n",
              "      <td>248</td>\n",
              "      <td>20190903</td>\n",
              "      <td>250</td>\n",
              "    </tr>\n",
              "    <tr>\n",
              "      <th>1</th>\n",
              "      <td>2019</td>\n",
              "      <td>30</td>\n",
              "      <td>Baltimore City</td>\n",
              "      <td>0007</td>\n",
              "      <td>Cecil Elementary</td>\n",
              "      <td>Total Enrollment</td>\n",
              "      <td>345</td>\n",
              "      <td>20190903</td>\n",
              "      <td>391</td>\n",
              "    </tr>\n",
              "    <tr>\n",
              "      <th>2</th>\n",
              "      <td>2019</td>\n",
              "      <td>30</td>\n",
              "      <td>Baltimore City</td>\n",
              "      <td>0008</td>\n",
              "      <td>City Springs Elementary/Middle</td>\n",
              "      <td>Total Enrollment</td>\n",
              "      <td>704</td>\n",
              "      <td>20190903</td>\n",
              "      <td>703</td>\n",
              "    </tr>\n",
              "    <tr>\n",
              "      <th>3</th>\n",
              "      <td>2019</td>\n",
              "      <td>30</td>\n",
              "      <td>Baltimore City</td>\n",
              "      <td>0010</td>\n",
              "      <td>James McHenry Elementary/Middle</td>\n",
              "      <td>Total Enrollment</td>\n",
              "      <td>512</td>\n",
              "      <td>20190903</td>\n",
              "      <td>625</td>\n",
              "    </tr>\n",
              "    <tr>\n",
              "      <th>4</th>\n",
              "      <td>2019</td>\n",
              "      <td>30</td>\n",
              "      <td>Baltimore City</td>\n",
              "      <td>0011</td>\n",
              "      <td>Eutaw-Marshburn Elementary</td>\n",
              "      <td>Total Enrollment</td>\n",
              "      <td>259</td>\n",
              "      <td>20190903</td>\n",
              "      <td>271</td>\n",
              "    </tr>\n",
              "    <tr>\n",
              "      <th>5</th>\n",
              "      <td>2019</td>\n",
              "      <td>30</td>\n",
              "      <td>Baltimore City</td>\n",
              "      <td>0012</td>\n",
              "      <td>Lakeland Elementary/Middle</td>\n",
              "      <td>Total Enrollment</td>\n",
              "      <td>909</td>\n",
              "      <td>20190903</td>\n",
              "      <td>998</td>\n",
              "    </tr>\n",
              "    <tr>\n",
              "      <th>6</th>\n",
              "      <td>2019</td>\n",
              "      <td>30</td>\n",
              "      <td>Baltimore City</td>\n",
              "      <td>0013</td>\n",
              "      <td>Tench Tilghman Elementary/Middle</td>\n",
              "      <td>Total Enrollment</td>\n",
              "      <td>397</td>\n",
              "      <td>20190903</td>\n",
              "      <td>398</td>\n",
              "    </tr>\n",
              "    <tr>\n",
              "      <th>7</th>\n",
              "      <td>2019</td>\n",
              "      <td>30</td>\n",
              "      <td>Baltimore City</td>\n",
              "      <td>0015</td>\n",
              "      <td>Stadium School</td>\n",
              "      <td>Total Enrollment</td>\n",
              "      <td>352</td>\n",
              "      <td>20190903</td>\n",
              "      <td>415</td>\n",
              "    </tr>\n",
              "    <tr>\n",
              "      <th>8</th>\n",
              "      <td>2019</td>\n",
              "      <td>30</td>\n",
              "      <td>Baltimore City</td>\n",
              "      <td>0016</td>\n",
              "      <td>Johnston Square Elementary</td>\n",
              "      <td>Total Enrollment</td>\n",
              "      <td>284</td>\n",
              "      <td>20190903</td>\n",
              "      <td>291</td>\n",
              "    </tr>\n",
              "    <tr>\n",
              "      <th>9</th>\n",
              "      <td>2019</td>\n",
              "      <td>30</td>\n",
              "      <td>Baltimore City</td>\n",
              "      <td>0021</td>\n",
              "      <td>Hilton Elementary</td>\n",
              "      <td>Total Enrollment</td>\n",
              "      <td>356</td>\n",
              "      <td>20190903</td>\n",
              "      <td>365</td>\n",
              "    </tr>\n",
              "  </tbody>\n",
              "</table>\n",
              "</div>"
            ],
            "text/plain": [
              "   Academic Year LSS Number  ... Create Date Enrolled Count 2020\n",
              "0           2019         30  ...    20190903                 250\n",
              "1           2019         30  ...    20190903                 391\n",
              "2           2019         30  ...    20190903                 703\n",
              "3           2019         30  ...    20190903                 625\n",
              "4           2019         30  ...    20190903                 271\n",
              "5           2019         30  ...    20190903                 998\n",
              "6           2019         30  ...    20190903                 398\n",
              "7           2019         30  ...    20190903                 415\n",
              "8           2019         30  ...    20190903                 291\n",
              "9           2019         30  ...    20190903                 365\n",
              "\n",
              "[10 rows x 9 columns]"
            ]
          },
          "metadata": {
            "tags": []
          },
          "execution_count": 89
        }
      ]
    },
    {
      "cell_type": "markdown",
      "metadata": {
        "id": "_fT6ztBy0peH"
      },
      "source": [
        "# Calculate Percent Change in a new column"
      ]
    },
    {
      "cell_type": "code",
      "metadata": {
        "id": "dp7ulib-3Gt_"
      },
      "source": [
        "# change datatype of enrollment to float\n",
        "df_10_20_merge[\"Enrollment Count 2019\"] = df_10_20_merge[\"Enrolled Count 2019\"].astype(float)"
      ],
      "execution_count": null,
      "outputs": []
    },
    {
      "cell_type": "code",
      "metadata": {
        "id": "gP7Tr_dE3vvI",
        "outputId": "f3fade4c-574e-4adb-81e2-6db3430548d7",
        "colab": {
          "base_uri": "https://localhost:8080/"
        }
      },
      "source": [
        "df_10_20_merge.info()"
      ],
      "execution_count": null,
      "outputs": [
        {
          "output_type": "stream",
          "text": [
            "<class 'pandas.core.frame.DataFrame'>\n",
            "Int64Index: 167 entries, 0 to 166\n",
            "Data columns (total 11 columns):\n",
            " #   Column                 Non-Null Count  Dtype  \n",
            "---  ------                 --------------  -----  \n",
            " 0   Academic Year          167 non-null    int64  \n",
            " 1   LSS Number             167 non-null    object \n",
            " 2   LSS Name               167 non-null    object \n",
            " 3   School Number          167 non-null    object \n",
            " 4   School Name            167 non-null    object \n",
            " 5   Grade                  167 non-null    object \n",
            " 6   Enrolled Count 2019    167 non-null    object \n",
            " 7   Create Date            167 non-null    int64  \n",
            " 8   Enrolled Count 2020    154 non-null    object \n",
            " 9   Enrollment Count 2019  167 non-null    float64\n",
            " 10  Enrollment Count 2020  154 non-null    float64\n",
            "dtypes: float64(2), int64(2), object(7)\n",
            "memory usage: 15.7+ KB\n"
          ],
          "name": "stdout"
        }
      ]
    },
    {
      "cell_type": "code",
      "metadata": {
        "id": "H6oucanJ30Vw"
      },
      "source": [
        "# change datatype of enrollment to float\n",
        "df_10_20_merge[\"Enrollment Count 2020\"] = df_10_20_merge[\"Enrolled Count 2020\"].astype(float)"
      ],
      "execution_count": null,
      "outputs": []
    },
    {
      "cell_type": "code",
      "metadata": {
        "id": "NxzKQbtE35_V"
      },
      "source": [
        "#percent enrollment change in 2020\n",
        "df_10_20_merge[\"Enrollment Change\"] = (df_10_20_merge[\"Enrollment Count 2020\"] - df_10_20_merge[\"Enrollment Count 2019\"])/df_10_20_merge[\"Enrollment Count 2020\"]"
      ],
      "execution_count": null,
      "outputs": []
    },
    {
      "cell_type": "code",
      "metadata": {
        "id": "UmUfKz_F4S7F",
        "outputId": "545c46ed-25bb-4c39-841a-c3124d8a365e",
        "colab": {
          "base_uri": "https://localhost:8080/",
          "height": 306
        }
      },
      "source": [
        "df_10_20_merge.head()"
      ],
      "execution_count": null,
      "outputs": [
        {
          "output_type": "execute_result",
          "data": {
            "text/html": [
              "<div>\n",
              "<style scoped>\n",
              "    .dataframe tbody tr th:only-of-type {\n",
              "        vertical-align: middle;\n",
              "    }\n",
              "\n",
              "    .dataframe tbody tr th {\n",
              "        vertical-align: top;\n",
              "    }\n",
              "\n",
              "    .dataframe thead th {\n",
              "        text-align: right;\n",
              "    }\n",
              "</style>\n",
              "<table border=\"1\" class=\"dataframe\">\n",
              "  <thead>\n",
              "    <tr style=\"text-align: right;\">\n",
              "      <th></th>\n",
              "      <th>Academic Year</th>\n",
              "      <th>LSS Number</th>\n",
              "      <th>LSS Name</th>\n",
              "      <th>School Number</th>\n",
              "      <th>School Name</th>\n",
              "      <th>Grade</th>\n",
              "      <th>Enrolled Count 2019</th>\n",
              "      <th>Create Date</th>\n",
              "      <th>Enrolled Count 2020</th>\n",
              "      <th>Enrollment Count 2019</th>\n",
              "      <th>Enrollment Count 2020</th>\n",
              "      <th>Enrollment Change</th>\n",
              "    </tr>\n",
              "  </thead>\n",
              "  <tbody>\n",
              "    <tr>\n",
              "      <th>0</th>\n",
              "      <td>2019</td>\n",
              "      <td>30</td>\n",
              "      <td>Baltimore City</td>\n",
              "      <td>0004</td>\n",
              "      <td>Steuart Hill Academic Academy</td>\n",
              "      <td>Total Enrollment</td>\n",
              "      <td>248</td>\n",
              "      <td>20190903</td>\n",
              "      <td>250</td>\n",
              "      <td>248.0</td>\n",
              "      <td>250.0</td>\n",
              "      <td>0.008000</td>\n",
              "    </tr>\n",
              "    <tr>\n",
              "      <th>1</th>\n",
              "      <td>2019</td>\n",
              "      <td>30</td>\n",
              "      <td>Baltimore City</td>\n",
              "      <td>0007</td>\n",
              "      <td>Cecil Elementary</td>\n",
              "      <td>Total Enrollment</td>\n",
              "      <td>345</td>\n",
              "      <td>20190903</td>\n",
              "      <td>391</td>\n",
              "      <td>345.0</td>\n",
              "      <td>391.0</td>\n",
              "      <td>0.117647</td>\n",
              "    </tr>\n",
              "    <tr>\n",
              "      <th>2</th>\n",
              "      <td>2019</td>\n",
              "      <td>30</td>\n",
              "      <td>Baltimore City</td>\n",
              "      <td>0008</td>\n",
              "      <td>City Springs Elementary/Middle</td>\n",
              "      <td>Total Enrollment</td>\n",
              "      <td>704</td>\n",
              "      <td>20190903</td>\n",
              "      <td>703</td>\n",
              "      <td>704.0</td>\n",
              "      <td>703.0</td>\n",
              "      <td>-0.001422</td>\n",
              "    </tr>\n",
              "    <tr>\n",
              "      <th>3</th>\n",
              "      <td>2019</td>\n",
              "      <td>30</td>\n",
              "      <td>Baltimore City</td>\n",
              "      <td>0010</td>\n",
              "      <td>James McHenry Elementary/Middle</td>\n",
              "      <td>Total Enrollment</td>\n",
              "      <td>512</td>\n",
              "      <td>20190903</td>\n",
              "      <td>625</td>\n",
              "      <td>512.0</td>\n",
              "      <td>625.0</td>\n",
              "      <td>0.180800</td>\n",
              "    </tr>\n",
              "    <tr>\n",
              "      <th>4</th>\n",
              "      <td>2019</td>\n",
              "      <td>30</td>\n",
              "      <td>Baltimore City</td>\n",
              "      <td>0011</td>\n",
              "      <td>Eutaw-Marshburn Elementary</td>\n",
              "      <td>Total Enrollment</td>\n",
              "      <td>259</td>\n",
              "      <td>20190903</td>\n",
              "      <td>271</td>\n",
              "      <td>259.0</td>\n",
              "      <td>271.0</td>\n",
              "      <td>0.044280</td>\n",
              "    </tr>\n",
              "  </tbody>\n",
              "</table>\n",
              "</div>"
            ],
            "text/plain": [
              "   Academic Year LSS Number  ... Enrollment Count 2020 Enrollment Change\n",
              "0           2019         30  ...                 250.0          0.008000\n",
              "1           2019         30  ...                 391.0          0.117647\n",
              "2           2019         30  ...                 703.0         -0.001422\n",
              "3           2019         30  ...                 625.0          0.180800\n",
              "4           2019         30  ...                 271.0          0.044280\n",
              "\n",
              "[5 rows x 12 columns]"
            ]
          },
          "metadata": {
            "tags": []
          },
          "execution_count": 97
        }
      ]
    },
    {
      "cell_type": "code",
      "metadata": {
        "id": "xSphfTdf4URp"
      },
      "source": [
        "#change enrollment change to percent\n",
        "df_10_20_merge[\"Enrollment Change\"] = df_10_20_merge[\"Enrollment Change\"]*100"
      ],
      "execution_count": null,
      "outputs": []
    },
    {
      "cell_type": "code",
      "metadata": {
        "id": "7mYdjM674k1L",
        "outputId": "d6f41784-2333-41a7-e1da-28285e792eed",
        "colab": {
          "base_uri": "https://localhost:8080/",
          "height": 546
        }
      },
      "source": [
        "df_10_20_merge.head(10)"
      ],
      "execution_count": null,
      "outputs": [
        {
          "output_type": "execute_result",
          "data": {
            "text/html": [
              "<div>\n",
              "<style scoped>\n",
              "    .dataframe tbody tr th:only-of-type {\n",
              "        vertical-align: middle;\n",
              "    }\n",
              "\n",
              "    .dataframe tbody tr th {\n",
              "        vertical-align: top;\n",
              "    }\n",
              "\n",
              "    .dataframe thead th {\n",
              "        text-align: right;\n",
              "    }\n",
              "</style>\n",
              "<table border=\"1\" class=\"dataframe\">\n",
              "  <thead>\n",
              "    <tr style=\"text-align: right;\">\n",
              "      <th></th>\n",
              "      <th>Academic Year</th>\n",
              "      <th>LSS Number</th>\n",
              "      <th>LSS Name</th>\n",
              "      <th>School Number</th>\n",
              "      <th>School Name</th>\n",
              "      <th>Grade</th>\n",
              "      <th>Enrolled Count 2019</th>\n",
              "      <th>Create Date</th>\n",
              "      <th>Enrolled Count 2020</th>\n",
              "      <th>Enrollment Count 2019</th>\n",
              "      <th>Enrollment Count 2020</th>\n",
              "      <th>Enrollment Change</th>\n",
              "    </tr>\n",
              "  </thead>\n",
              "  <tbody>\n",
              "    <tr>\n",
              "      <th>0</th>\n",
              "      <td>2019</td>\n",
              "      <td>30</td>\n",
              "      <td>Baltimore City</td>\n",
              "      <td>0004</td>\n",
              "      <td>Steuart Hill Academic Academy</td>\n",
              "      <td>Total Enrollment</td>\n",
              "      <td>248</td>\n",
              "      <td>20190903</td>\n",
              "      <td>250</td>\n",
              "      <td>248.0</td>\n",
              "      <td>250.0</td>\n",
              "      <td>0.800000</td>\n",
              "    </tr>\n",
              "    <tr>\n",
              "      <th>1</th>\n",
              "      <td>2019</td>\n",
              "      <td>30</td>\n",
              "      <td>Baltimore City</td>\n",
              "      <td>0007</td>\n",
              "      <td>Cecil Elementary</td>\n",
              "      <td>Total Enrollment</td>\n",
              "      <td>345</td>\n",
              "      <td>20190903</td>\n",
              "      <td>391</td>\n",
              "      <td>345.0</td>\n",
              "      <td>391.0</td>\n",
              "      <td>11.764706</td>\n",
              "    </tr>\n",
              "    <tr>\n",
              "      <th>2</th>\n",
              "      <td>2019</td>\n",
              "      <td>30</td>\n",
              "      <td>Baltimore City</td>\n",
              "      <td>0008</td>\n",
              "      <td>City Springs Elementary/Middle</td>\n",
              "      <td>Total Enrollment</td>\n",
              "      <td>704</td>\n",
              "      <td>20190903</td>\n",
              "      <td>703</td>\n",
              "      <td>704.0</td>\n",
              "      <td>703.0</td>\n",
              "      <td>-0.142248</td>\n",
              "    </tr>\n",
              "    <tr>\n",
              "      <th>3</th>\n",
              "      <td>2019</td>\n",
              "      <td>30</td>\n",
              "      <td>Baltimore City</td>\n",
              "      <td>0010</td>\n",
              "      <td>James McHenry Elementary/Middle</td>\n",
              "      <td>Total Enrollment</td>\n",
              "      <td>512</td>\n",
              "      <td>20190903</td>\n",
              "      <td>625</td>\n",
              "      <td>512.0</td>\n",
              "      <td>625.0</td>\n",
              "      <td>18.080000</td>\n",
              "    </tr>\n",
              "    <tr>\n",
              "      <th>4</th>\n",
              "      <td>2019</td>\n",
              "      <td>30</td>\n",
              "      <td>Baltimore City</td>\n",
              "      <td>0011</td>\n",
              "      <td>Eutaw-Marshburn Elementary</td>\n",
              "      <td>Total Enrollment</td>\n",
              "      <td>259</td>\n",
              "      <td>20190903</td>\n",
              "      <td>271</td>\n",
              "      <td>259.0</td>\n",
              "      <td>271.0</td>\n",
              "      <td>4.428044</td>\n",
              "    </tr>\n",
              "    <tr>\n",
              "      <th>5</th>\n",
              "      <td>2019</td>\n",
              "      <td>30</td>\n",
              "      <td>Baltimore City</td>\n",
              "      <td>0012</td>\n",
              "      <td>Lakeland Elementary/Middle</td>\n",
              "      <td>Total Enrollment</td>\n",
              "      <td>909</td>\n",
              "      <td>20190903</td>\n",
              "      <td>998</td>\n",
              "      <td>909.0</td>\n",
              "      <td>998.0</td>\n",
              "      <td>8.917836</td>\n",
              "    </tr>\n",
              "    <tr>\n",
              "      <th>6</th>\n",
              "      <td>2019</td>\n",
              "      <td>30</td>\n",
              "      <td>Baltimore City</td>\n",
              "      <td>0013</td>\n",
              "      <td>Tench Tilghman Elementary/Middle</td>\n",
              "      <td>Total Enrollment</td>\n",
              "      <td>397</td>\n",
              "      <td>20190903</td>\n",
              "      <td>398</td>\n",
              "      <td>397.0</td>\n",
              "      <td>398.0</td>\n",
              "      <td>0.251256</td>\n",
              "    </tr>\n",
              "    <tr>\n",
              "      <th>7</th>\n",
              "      <td>2019</td>\n",
              "      <td>30</td>\n",
              "      <td>Baltimore City</td>\n",
              "      <td>0015</td>\n",
              "      <td>Stadium School</td>\n",
              "      <td>Total Enrollment</td>\n",
              "      <td>352</td>\n",
              "      <td>20190903</td>\n",
              "      <td>415</td>\n",
              "      <td>352.0</td>\n",
              "      <td>415.0</td>\n",
              "      <td>15.180723</td>\n",
              "    </tr>\n",
              "    <tr>\n",
              "      <th>8</th>\n",
              "      <td>2019</td>\n",
              "      <td>30</td>\n",
              "      <td>Baltimore City</td>\n",
              "      <td>0016</td>\n",
              "      <td>Johnston Square Elementary</td>\n",
              "      <td>Total Enrollment</td>\n",
              "      <td>284</td>\n",
              "      <td>20190903</td>\n",
              "      <td>291</td>\n",
              "      <td>284.0</td>\n",
              "      <td>291.0</td>\n",
              "      <td>2.405498</td>\n",
              "    </tr>\n",
              "    <tr>\n",
              "      <th>9</th>\n",
              "      <td>2019</td>\n",
              "      <td>30</td>\n",
              "      <td>Baltimore City</td>\n",
              "      <td>0021</td>\n",
              "      <td>Hilton Elementary</td>\n",
              "      <td>Total Enrollment</td>\n",
              "      <td>356</td>\n",
              "      <td>20190903</td>\n",
              "      <td>365</td>\n",
              "      <td>356.0</td>\n",
              "      <td>365.0</td>\n",
              "      <td>2.465753</td>\n",
              "    </tr>\n",
              "  </tbody>\n",
              "</table>\n",
              "</div>"
            ],
            "text/plain": [
              "   Academic Year LSS Number  ... Enrollment Count 2020 Enrollment Change\n",
              "0           2019         30  ...                 250.0          0.800000\n",
              "1           2019         30  ...                 391.0         11.764706\n",
              "2           2019         30  ...                 703.0         -0.142248\n",
              "3           2019         30  ...                 625.0         18.080000\n",
              "4           2019         30  ...                 271.0          4.428044\n",
              "5           2019         30  ...                 998.0          8.917836\n",
              "6           2019         30  ...                 398.0          0.251256\n",
              "7           2019         30  ...                 415.0         15.180723\n",
              "8           2019         30  ...                 291.0          2.405498\n",
              "9           2019         30  ...                 365.0          2.465753\n",
              "\n",
              "[10 rows x 12 columns]"
            ]
          },
          "metadata": {
            "tags": []
          },
          "execution_count": 99
        }
      ]
    },
    {
      "cell_type": "markdown",
      "metadata": {
        "id": "a0HapR7-63BZ"
      },
      "source": [
        "# Bar Graph of Enrollment Change"
      ]
    },
    {
      "cell_type": "code",
      "metadata": {
        "id": "kFcP28Es61VM"
      },
      "source": [
        "# create a bar chart of enrollment change\n",
        "\n",
        "bar_enrollment = px.bar(df_10_20_merge,x= \"School Name\", y = \"Enrollment Change\", title = \"Enrollment Change in BCPSS, 2019-2020\")"
      ],
      "execution_count": null,
      "outputs": []
    },
    {
      "cell_type": "code",
      "metadata": {
        "id": "J3u4IMhv8Hyx"
      },
      "source": [
        "# sort values\n",
        "\n",
        "df_10_20_merge = df_10_20_merge.sort_values(by = \"Enrollment Change\")"
      ],
      "execution_count": null,
      "outputs": []
    },
    {
      "cell_type": "code",
      "metadata": {
        "id": "4Vadblba8gF2",
        "outputId": "d6975c35-92e3-40f1-87c6-e0d81e77f433",
        "colab": {
          "base_uri": "https://localhost:8080/",
          "height": 546
        }
      },
      "source": [
        "df_10_20_merge.head(10)"
      ],
      "execution_count": null,
      "outputs": [
        {
          "output_type": "execute_result",
          "data": {
            "text/html": [
              "<div>\n",
              "<style scoped>\n",
              "    .dataframe tbody tr th:only-of-type {\n",
              "        vertical-align: middle;\n",
              "    }\n",
              "\n",
              "    .dataframe tbody tr th {\n",
              "        vertical-align: top;\n",
              "    }\n",
              "\n",
              "    .dataframe thead th {\n",
              "        text-align: right;\n",
              "    }\n",
              "</style>\n",
              "<table border=\"1\" class=\"dataframe\">\n",
              "  <thead>\n",
              "    <tr style=\"text-align: right;\">\n",
              "      <th></th>\n",
              "      <th>Academic Year</th>\n",
              "      <th>LSS Number</th>\n",
              "      <th>LSS Name</th>\n",
              "      <th>School Number</th>\n",
              "      <th>School Name</th>\n",
              "      <th>Grade</th>\n",
              "      <th>Enrolled Count 2019</th>\n",
              "      <th>Create Date</th>\n",
              "      <th>Enrolled Count 2020</th>\n",
              "      <th>Enrollment Count 2019</th>\n",
              "      <th>Enrollment Count 2020</th>\n",
              "      <th>Enrollment Change</th>\n",
              "    </tr>\n",
              "  </thead>\n",
              "  <tbody>\n",
              "    <tr>\n",
              "      <th>110</th>\n",
              "      <td>2019</td>\n",
              "      <td>30</td>\n",
              "      <td>Baltimore City</td>\n",
              "      <td>0314</td>\n",
              "      <td>Sharp-Leadenhall Elementary</td>\n",
              "      <td>Total Enrollment</td>\n",
              "      <td>29</td>\n",
              "      <td>20190903</td>\n",
              "      <td>18</td>\n",
              "      <td>29.0</td>\n",
              "      <td>18.0</td>\n",
              "      <td>-61.111111</td>\n",
              "    </tr>\n",
              "    <tr>\n",
              "      <th>123</th>\n",
              "      <td>2019</td>\n",
              "      <td>30</td>\n",
              "      <td>Baltimore City</td>\n",
              "      <td>0337</td>\n",
              "      <td>Afya Public Charter School</td>\n",
              "      <td>Total Enrollment</td>\n",
              "      <td>355</td>\n",
              "      <td>20190903</td>\n",
              "      <td>228</td>\n",
              "      <td>355.0</td>\n",
              "      <td>228.0</td>\n",
              "      <td>-55.701754</td>\n",
              "    </tr>\n",
              "    <tr>\n",
              "      <th>125</th>\n",
              "      <td>2019</td>\n",
              "      <td>30</td>\n",
              "      <td>Baltimore City</td>\n",
              "      <td>0345</td>\n",
              "      <td>Joseph C. Briscoe Academy</td>\n",
              "      <td>Total Enrollment</td>\n",
              "      <td>79</td>\n",
              "      <td>20190903</td>\n",
              "      <td>57</td>\n",
              "      <td>79.0</td>\n",
              "      <td>57.0</td>\n",
              "      <td>-38.596491</td>\n",
              "    </tr>\n",
              "    <tr>\n",
              "      <th>55</th>\n",
              "      <td>2019</td>\n",
              "      <td>30</td>\n",
              "      <td>Baltimore City</td>\n",
              "      <td>0144</td>\n",
              "      <td>James Mosher Elementary</td>\n",
              "      <td>Total Enrollment</td>\n",
              "      <td>282</td>\n",
              "      <td>20190903</td>\n",
              "      <td>211</td>\n",
              "      <td>282.0</td>\n",
              "      <td>211.0</td>\n",
              "      <td>-33.649289</td>\n",
              "    </tr>\n",
              "    <tr>\n",
              "      <th>45</th>\n",
              "      <td>2019</td>\n",
              "      <td>30</td>\n",
              "      <td>Baltimore City</td>\n",
              "      <td>0095</td>\n",
              "      <td>Franklin Square Elementary/Middle</td>\n",
              "      <td>Total Enrollment</td>\n",
              "      <td>469</td>\n",
              "      <td>20190903</td>\n",
              "      <td>367</td>\n",
              "      <td>469.0</td>\n",
              "      <td>367.0</td>\n",
              "      <td>-27.792916</td>\n",
              "    </tr>\n",
              "    <tr>\n",
              "      <th>42</th>\n",
              "      <td>2019</td>\n",
              "      <td>30</td>\n",
              "      <td>Baltimore City</td>\n",
              "      <td>0086</td>\n",
              "      <td>Lakewood Elementary</td>\n",
              "      <td>Total Enrollment</td>\n",
              "      <td>105</td>\n",
              "      <td>20190903</td>\n",
              "      <td>83</td>\n",
              "      <td>105.0</td>\n",
              "      <td>83.0</td>\n",
              "      <td>-26.506024</td>\n",
              "    </tr>\n",
              "    <tr>\n",
              "      <th>36</th>\n",
              "      <td>2019</td>\n",
              "      <td>30</td>\n",
              "      <td>Baltimore City</td>\n",
              "      <td>0075</td>\n",
              "      <td>Calverton Elementary/Middle</td>\n",
              "      <td>Total Enrollment</td>\n",
              "      <td>439</td>\n",
              "      <td>20190903</td>\n",
              "      <td>358</td>\n",
              "      <td>439.0</td>\n",
              "      <td>358.0</td>\n",
              "      <td>-22.625698</td>\n",
              "    </tr>\n",
              "    <tr>\n",
              "      <th>108</th>\n",
              "      <td>2019</td>\n",
              "      <td>30</td>\n",
              "      <td>Baltimore City</td>\n",
              "      <td>0307</td>\n",
              "      <td>Claremont School</td>\n",
              "      <td>Total Enrollment</td>\n",
              "      <td>58</td>\n",
              "      <td>20190903</td>\n",
              "      <td>48</td>\n",
              "      <td>58.0</td>\n",
              "      <td>48.0</td>\n",
              "      <td>-20.833333</td>\n",
              "    </tr>\n",
              "    <tr>\n",
              "      <th>105</th>\n",
              "      <td>2019</td>\n",
              "      <td>30</td>\n",
              "      <td>Baltimore City</td>\n",
              "      <td>0261</td>\n",
              "      <td>Lockerman Bundy Elementary</td>\n",
              "      <td>Total Enrollment</td>\n",
              "      <td>266</td>\n",
              "      <td>20190903</td>\n",
              "      <td>221</td>\n",
              "      <td>266.0</td>\n",
              "      <td>221.0</td>\n",
              "      <td>-20.361991</td>\n",
              "    </tr>\n",
              "    <tr>\n",
              "      <th>35</th>\n",
              "      <td>2019</td>\n",
              "      <td>30</td>\n",
              "      <td>Baltimore City</td>\n",
              "      <td>0073</td>\n",
              "      <td>Sarah M. Roach Elementary</td>\n",
              "      <td>Total Enrollment</td>\n",
              "      <td>221</td>\n",
              "      <td>20190903</td>\n",
              "      <td>185</td>\n",
              "      <td>221.0</td>\n",
              "      <td>185.0</td>\n",
              "      <td>-19.459459</td>\n",
              "    </tr>\n",
              "  </tbody>\n",
              "</table>\n",
              "</div>"
            ],
            "text/plain": [
              "     Academic Year LSS Number  ... Enrollment Count 2020 Enrollment Change\n",
              "110           2019         30  ...                  18.0        -61.111111\n",
              "123           2019         30  ...                 228.0        -55.701754\n",
              "125           2019         30  ...                  57.0        -38.596491\n",
              "55            2019         30  ...                 211.0        -33.649289\n",
              "45            2019         30  ...                 367.0        -27.792916\n",
              "42            2019         30  ...                  83.0        -26.506024\n",
              "36            2019         30  ...                 358.0        -22.625698\n",
              "108           2019         30  ...                  48.0        -20.833333\n",
              "105           2019         30  ...                 221.0        -20.361991\n",
              "35            2019         30  ...                 185.0        -19.459459\n",
              "\n",
              "[10 rows x 12 columns]"
            ]
          },
          "metadata": {
            "tags": []
          },
          "execution_count": 112
        }
      ]
    },
    {
      "cell_type": "code",
      "metadata": {
        "id": "228MVEzb61fh",
        "outputId": "c1b62517-14de-42f7-a373-882e0ef9111e",
        "colab": {
          "base_uri": "https://localhost:8080/",
          "height": 542
        }
      },
      "source": [
        "bar_enrollment"
      ],
      "execution_count": null,
      "outputs": [
        {
          "output_type": "display_data",
          "data": {
            "text/html": [
              "<html>\n",
              "<head><meta charset=\"utf-8\" /></head>\n",
              "<body>\n",
              "    <div>\n",
              "            <script src=\"https://cdnjs.cloudflare.com/ajax/libs/mathjax/2.7.5/MathJax.js?config=TeX-AMS-MML_SVG\"></script><script type=\"text/javascript\">if (window.MathJax) {MathJax.Hub.Config({SVG: {font: \"STIX-Web\"}});}</script>\n",
              "                <script type=\"text/javascript\">window.PlotlyConfig = {MathJaxConfig: 'local'};</script>\n",
              "        <script src=\"https://cdn.plot.ly/plotly-latest.min.js\"></script>    \n",
              "            <div id=\"47d6bafa-a3ea-46c5-9bed-04b1e91d1406\" class=\"plotly-graph-div\" style=\"height:525px; width:100%;\"></div>\n",
              "            <script type=\"text/javascript\">\n",
              "                \n",
              "                    window.PLOTLYENV=window.PLOTLYENV || {};\n",
              "                    \n",
              "                if (document.getElementById(\"47d6bafa-a3ea-46c5-9bed-04b1e91d1406\")) {\n",
              "                    Plotly.newPlot(\n",
              "                        '47d6bafa-a3ea-46c5-9bed-04b1e91d1406',\n",
              "                        [{\"alignmentgroup\": \"True\", \"hoverlabel\": {\"namelength\": 0}, \"hovertemplate\": \"School Name=%{x}<br>Enrollment Change=%{y}\", \"legendgroup\": \"\", \"marker\": {\"color\": \"#636efa\"}, \"name\": \"\", \"offsetgroup\": \"\", \"orientation\": \"v\", \"showlegend\": false, \"textposition\": \"auto\", \"type\": \"bar\", \"x\": [\"Sharp-Leadenhall Elementary\", \"Afya Public Charter School\", \"Joseph C. Briscoe Academy\", \"James Mosher Elementary\", \"Franklin Square Elementary/Middle\", \"Lakewood Elementary\", \"Calverton Elementary/Middle\", \"Claremont School\", \"Lockerman Bundy Elementary\", \"Sarah M. Roach Elementary\", \"George Washington Elementary\", \"Matthew A. Henson Elementary\", \"Garrett Heights Elementary/Middle\", \"N.A.C.A. Freedom and Democracy Academy II\", \"Medfield Heights Elementary\", \"Alexander Hamilton Elementary\", \"Frederick Douglass High\", \"Baltimore Collegiate School for Boys\", \"Westport Academy\", \"Dickey Hill Elementary/Middle\", \"Lois T. Murray Elementary/Middle\", \"Mary Ann Winterling Elementary at Bentalou\", \"Bard High School Early College\", \"The Historic Samuel Coleridge-Taylor Elementary\", \"Govans Elementary\", \"Independence School Local I\", \"Thomas Jefferson Elementary/Middle\", \"Northwood Elementary\", \"William S. Baer School\", \"Violetville Elementary/Middle\", \"The Mount Washington School\", \"Harlem Park Elementary/Middle\", \"Windsor Hills Elementary/Middle\", \"Callaway Elementary\", \"Dr. Nathan A. Pitts-Ashburton Elementary/Middle\", \"Edmondson-Westside High\", \"Leith Walk Elementary/Middle\", \"Digital Harbor High School\", \"Renaissance Academy\", \"Bluford Drew Jemison STEM Academy West\", \"ConneXions: A  Community Based Arts School\", \"Margaret Brent Elementary/Middle\", \"Montebello Elementary/Middle\", \"Belmont Elementary\", \"Paul Laurence Dunbar High\", \"Yorkwood Elementary\", \"Glenmount Elementary/Middle\", \"Baltimore Design School\", \"Gwynns Falls Elementary\", \"Cross Country Elementary/Middle\", \"The Green School of Baltimore\", \"The Crossroads School\", \"Baltimore Polytechnic Institute\", \"Baltimore School for the Arts\", \"Furman Templeton Preparatory Academy\", \"City Neighbors Charter School\", \"City Neighbors Hamilton\", \"Barclay Elementary/Middle\", \"Tunbridge Public Charter School\", \"City Springs Elementary/Middle\", \"All Baltimore City Schools\", \"Hamilton Elementary/Middle\", \"Gardenville Elementary\", \"Baltimore Leadership School for Young Women\", \"KIPP Harmony Academy\", \"City Neighbors High\", \"Tench Tilghman Elementary/Middle\", \"Moravia Park Elementary\", \"Roland Park Elementary/Middle\", \"Green Street Academy\", \"Midtown Academy\", \"Edgewood Elementary\", \"Thomas Johnson Elementary/Middle\", \"Mergenthaler Vocational-Technical High\", \"Steuart Hill Academic Academy\", \"Coppin Academy\", \"Reginald F. Lewis High\", \"Carver Vocational-Technical High\", \"Patterson Park Public Charter School\", \"Wildwood Elementary/Middle\", \"Southwest Baltimore Charter School\", \"Vanguard Collegiate Middle\", \"Collington Square Elementary/Middle\", \"Robert W. Coleman Elementary\", \"Mount Royal Elementary/Middle\", \"Liberty Elementary\", \"Booker T. Washington Middle\", \"Commodore John Rogers Elementary/Middle\", \"Hazelwood Elementary/Middle\", \"Armistead Gardens Elementary/Middle\", \"Waverly Elementary/Middle\", \"Johnston Square Elementary\", \"Hilton Elementary\", \"Frederick Elementary\", \"Hampstead Hill Academy\", \"Maree Garnett Farring Elementary/Middle\", \"Baltimore Montessori Public Charter School\", \"Benjamin Franklin High School at Masonville Cove\", \"Baltimore City College\", \"Edgecombe Circle Elementary\", \"Empowerment Academy\", \"Calvin M. Rodwell Elementary/Middle\", \"Charles Carroll Barrister Elementary\", \"Augusta Fells Savage Institute of Visual Arts\", \"Mary E. Rodman Elementary\", \"Baltimore International Academy\", \"National Academy Foundation\", \"Vivien T. Thomas Medical Arts Academy\", \"John Ruhrah Elementary/Middle\", \"Eutaw-Marshburn Elementary\", \"Morrell Park Elementary/Middle\", \"Francis Scott Key Elementary/Middle\", \"Western High\", \"Achievement Academy at Harbor City High\", \"Creative City Public Charter School\", \"Harford Heights Elementary\", \"Rosemont Elementary/Middle\", \"North Bend Elementary/Middle\", \"Wolfe Street Academy\", \"Beechfield Elementary/Middle\", \"Woodhome Elementary/Middle\", \"The Reach! Partnership School\", \"Fort Worthington Elementary/Middle\", \"Arundel Elementary\", \"Bay-Brook Elementary/Middle\", \"George W. F. McMechen High\", \"Lakeland Elementary/Middle\", \"Dorothy I. Height Elementary\", \"Holabird Elementary/Middle\", \"Guilford Elementary/Middle\", \"Lillie May Carroll Jackson School\", \"New Song Academy\", \"Highlandtown Elementary/Middle #215\", \"Federal Hill Preparatory Academy\", \"Excel Academy at Francis M. Wood High\", \"Sinclair Lane Elementary\", \"Patterson High\", \"Fallstaff Elementary/Middle\", \"Hampden Elementary/Middle\", \"Forest Park High\", \"Cecil Elementary\", \"Highlandtown Elementary/Middle #237\", \"Academy for College and Career Exploration\", \"William Paca Elementary\", \"New Era Academy\", \"Curtis Bay Elementary/Middle\", \"Furley Elementary\", \"Walter P. Carter Elementary/Middle\", \"Stadium School\", \"James McHenry Elementary/Middle\", \"Graceland Park/O'Donnel Heights Elementary/Middle\", \"Abbottston Elementary\", \"Eager Street Academy\", \"Pimlico Elementary/Middle\", \"William Pinderhughes Elementary/Middle\", \"Dallas F. Nicholas Sr. Elementary\", \"Gilmor Elementary\", \"Cherry Hill Elementary/Middle\", \"Brehms Lane Public Charter School\", \"Arlington Elementary/Middle\", \"Dr. Bernard Harris, Sr. Elementary\", \"Dr. Martin Luther King, Jr. Elementary/Middle\", \"Northwood Appold Community Academy\", \"Banneker Blake Academy of Arts and Sciences\", \"Elmer A. Henderson: A Johns Hopkins Partnership Sc\", \"Roots and Branches School\", \"Monarch Academy Public Charter School\"], \"xaxis\": \"x\", \"y\": [-61.111111111111114, -55.70175438596491, -38.59649122807017, -33.649289099526065, -27.79291553133515, -26.506024096385545, -22.62569832402235, -20.833333333333336, -20.361990950226243, -19.45945945945946, -15.625, -15.064102564102564, -12.802768166089965, -12.121212121212121, -11.647727272727272, -11.25, -10.533159947984396, -10.416666666666668, -9.9644128113879, -9.366391184573002, -9.090909090909092, -8.4070796460177, -8.071748878923767, -7.6923076923076925, -7.349081364829396, -7.142857142857142, -6.564551422319474, -5.762711864406779, -5.389221556886228, -4.922279792746114, -4.770017035775128, -4.436860068259386, -4.247104247104247, -3.9603960396039604, -3.6211699164345403, -3.2825322391559206, -3.0303030303030303, -2.9259896729776247, -2.510460251046025, -2.2026431718061676, -2.178217821782178, -1.8518518518518516, -1.8083182640144666, -1.5267175572519083, -1.497695852534562, -1.4563106796116505, -1.291248206599713, -0.9784735812133072, -0.949367088607595, -0.7153075822603719, -0.6211180124223602, -0.6172839506172839, -0.5681818181818182, -0.45662100456621, -0.43383947939262474, -0.4329004329004329, -0.4273504273504274, -0.41928721174004197, -0.21231422505307856, -0.1422475106685633, -0.13891169005013448, -0.11574074074074073, 0.0, 0.0, 0.06578947368421052, 0.23923444976076555, 0.25125628140703515, 0.2621231979030144, 0.27529249827942187, 0.4694835680751174, 0.5050505050505051, 0.5319148936170213, 0.7299270072992701, 0.7562536358347877, 0.8, 0.8450704225352111, 0.9157509157509158, 1.0169491525423728, 1.0914051841746248, 1.125, 1.1574074074074074, 1.3227513227513228, 1.440922190201729, 1.644736842105263, 1.806451612903226, 1.8442622950819672, 2.066115702479339, 2.0948180815876514, 2.3060796645702304, 2.3485784919653896, 2.3622047244094486, 2.405498281786942, 2.4657534246575343, 2.5380710659898478, 2.619047619047619, 2.621231979030144, 2.631578947368421, 2.742230347349177, 2.7817403708987163, 2.7906976744186047, 3.041825095057034, 3.292181069958848, 3.428571428571429, 3.4562211981566824, 3.8596491228070176, 3.940217391304348, 4.096385542168675, 4.1343669250646, 4.230317273795535, 4.428044280442804, 4.45859872611465, 4.8417132216014895, 4.903677758318739, 5.080831408775981, 5.491329479768786, 5.56844547563805, 5.8495821727019495, 6.085192697768763, 6.538461538461539, 6.6141732283464565, 6.746987951807229, 7.155025553662692, 7.4812967581047385, 7.648183556405354, 7.728337236533958, 8.0, 8.917835671342687, 9.066666666666666, 9.722222222222223, 9.836065573770492, 10.064935064935066, 10.27027027027027, 10.504201680672269, 10.526315789473683, 10.59190031152648, 10.619469026548673, 10.647359454855195, 11.216730038022813, 11.568627450980392, 11.68639053254438, 11.76470588235294, 12.01814058956916, 12.175324675324676, 12.180746561886052, 12.195121951219512, 13.050075872534142, 13.333333333333334, 14.683544303797468, 15.180722891566264, 18.08, 18.739352640545146, 20.537897310513447, 23.91304347826087, 28.985507246376812, null, null, null, null, null, null, null, null, null, null, null, null, null], \"yaxis\": \"y\"}],\n",
              "                        {\"barmode\": \"relative\", \"legend\": {\"tracegroupgap\": 0}, \"template\": {\"data\": {\"bar\": [{\"error_x\": {\"color\": \"#2a3f5f\"}, \"error_y\": {\"color\": \"#2a3f5f\"}, \"marker\": {\"line\": {\"color\": \"#E5ECF6\", \"width\": 0.5}}, \"type\": \"bar\"}], \"barpolar\": [{\"marker\": {\"line\": {\"color\": \"#E5ECF6\", \"width\": 0.5}}, \"type\": \"barpolar\"}], \"carpet\": [{\"aaxis\": {\"endlinecolor\": \"#2a3f5f\", \"gridcolor\": \"white\", \"linecolor\": \"white\", \"minorgridcolor\": \"white\", \"startlinecolor\": \"#2a3f5f\"}, \"baxis\": {\"endlinecolor\": \"#2a3f5f\", \"gridcolor\": \"white\", \"linecolor\": \"white\", \"minorgridcolor\": \"white\", \"startlinecolor\": \"#2a3f5f\"}, \"type\": \"carpet\"}], \"choropleth\": [{\"colorbar\": {\"outlinewidth\": 0, \"ticks\": \"\"}, \"type\": \"choropleth\"}], \"contour\": [{\"colorbar\": {\"outlinewidth\": 0, \"ticks\": \"\"}, \"colorscale\": [[0.0, \"#0d0887\"], [0.1111111111111111, \"#46039f\"], [0.2222222222222222, \"#7201a8\"], [0.3333333333333333, \"#9c179e\"], [0.4444444444444444, \"#bd3786\"], [0.5555555555555556, \"#d8576b\"], [0.6666666666666666, \"#ed7953\"], [0.7777777777777778, \"#fb9f3a\"], [0.8888888888888888, \"#fdca26\"], [1.0, \"#f0f921\"]], \"type\": \"contour\"}], \"contourcarpet\": [{\"colorbar\": {\"outlinewidth\": 0, \"ticks\": \"\"}, \"type\": \"contourcarpet\"}], \"heatmap\": [{\"colorbar\": {\"outlinewidth\": 0, \"ticks\": \"\"}, \"colorscale\": [[0.0, \"#0d0887\"], [0.1111111111111111, \"#46039f\"], [0.2222222222222222, \"#7201a8\"], [0.3333333333333333, \"#9c179e\"], [0.4444444444444444, \"#bd3786\"], [0.5555555555555556, \"#d8576b\"], [0.6666666666666666, \"#ed7953\"], [0.7777777777777778, \"#fb9f3a\"], [0.8888888888888888, \"#fdca26\"], [1.0, \"#f0f921\"]], \"type\": \"heatmap\"}], \"heatmapgl\": [{\"colorbar\": {\"outlinewidth\": 0, \"ticks\": \"\"}, \"colorscale\": [[0.0, \"#0d0887\"], [0.1111111111111111, \"#46039f\"], [0.2222222222222222, \"#7201a8\"], [0.3333333333333333, \"#9c179e\"], [0.4444444444444444, \"#bd3786\"], [0.5555555555555556, \"#d8576b\"], [0.6666666666666666, \"#ed7953\"], [0.7777777777777778, \"#fb9f3a\"], [0.8888888888888888, \"#fdca26\"], [1.0, \"#f0f921\"]], \"type\": \"heatmapgl\"}], \"histogram\": [{\"marker\": {\"colorbar\": {\"outlinewidth\": 0, \"ticks\": \"\"}}, \"type\": \"histogram\"}], \"histogram2d\": [{\"colorbar\": {\"outlinewidth\": 0, \"ticks\": \"\"}, \"colorscale\": [[0.0, \"#0d0887\"], [0.1111111111111111, \"#46039f\"], [0.2222222222222222, \"#7201a8\"], [0.3333333333333333, \"#9c179e\"], [0.4444444444444444, \"#bd3786\"], [0.5555555555555556, \"#d8576b\"], [0.6666666666666666, \"#ed7953\"], [0.7777777777777778, \"#fb9f3a\"], [0.8888888888888888, \"#fdca26\"], [1.0, \"#f0f921\"]], \"type\": \"histogram2d\"}], \"histogram2dcontour\": [{\"colorbar\": {\"outlinewidth\": 0, \"ticks\": \"\"}, \"colorscale\": [[0.0, \"#0d0887\"], [0.1111111111111111, \"#46039f\"], [0.2222222222222222, \"#7201a8\"], [0.3333333333333333, \"#9c179e\"], [0.4444444444444444, \"#bd3786\"], [0.5555555555555556, \"#d8576b\"], [0.6666666666666666, \"#ed7953\"], [0.7777777777777778, \"#fb9f3a\"], [0.8888888888888888, \"#fdca26\"], [1.0, \"#f0f921\"]], \"type\": \"histogram2dcontour\"}], \"mesh3d\": [{\"colorbar\": {\"outlinewidth\": 0, \"ticks\": \"\"}, \"type\": \"mesh3d\"}], \"parcoords\": [{\"line\": {\"colorbar\": {\"outlinewidth\": 0, \"ticks\": \"\"}}, \"type\": \"parcoords\"}], \"pie\": [{\"automargin\": true, \"type\": \"pie\"}], \"scatter\": [{\"marker\": {\"colorbar\": {\"outlinewidth\": 0, \"ticks\": \"\"}}, \"type\": \"scatter\"}], \"scatter3d\": [{\"line\": {\"colorbar\": {\"outlinewidth\": 0, \"ticks\": \"\"}}, \"marker\": {\"colorbar\": {\"outlinewidth\": 0, \"ticks\": \"\"}}, \"type\": \"scatter3d\"}], \"scattercarpet\": [{\"marker\": {\"colorbar\": {\"outlinewidth\": 0, \"ticks\": \"\"}}, \"type\": \"scattercarpet\"}], \"scattergeo\": [{\"marker\": {\"colorbar\": {\"outlinewidth\": 0, \"ticks\": \"\"}}, \"type\": \"scattergeo\"}], \"scattergl\": [{\"marker\": {\"colorbar\": {\"outlinewidth\": 0, \"ticks\": \"\"}}, \"type\": \"scattergl\"}], \"scattermapbox\": [{\"marker\": {\"colorbar\": {\"outlinewidth\": 0, \"ticks\": \"\"}}, \"type\": \"scattermapbox\"}], \"scatterpolar\": [{\"marker\": {\"colorbar\": {\"outlinewidth\": 0, \"ticks\": \"\"}}, \"type\": \"scatterpolar\"}], \"scatterpolargl\": [{\"marker\": {\"colorbar\": {\"outlinewidth\": 0, \"ticks\": \"\"}}, \"type\": \"scatterpolargl\"}], \"scatterternary\": [{\"marker\": {\"colorbar\": {\"outlinewidth\": 0, \"ticks\": \"\"}}, \"type\": \"scatterternary\"}], \"surface\": [{\"colorbar\": {\"outlinewidth\": 0, \"ticks\": \"\"}, \"colorscale\": [[0.0, \"#0d0887\"], [0.1111111111111111, \"#46039f\"], [0.2222222222222222, \"#7201a8\"], [0.3333333333333333, \"#9c179e\"], [0.4444444444444444, \"#bd3786\"], [0.5555555555555556, \"#d8576b\"], [0.6666666666666666, \"#ed7953\"], [0.7777777777777778, \"#fb9f3a\"], [0.8888888888888888, \"#fdca26\"], [1.0, \"#f0f921\"]], \"type\": \"surface\"}], \"table\": [{\"cells\": {\"fill\": {\"color\": \"#EBF0F8\"}, \"line\": {\"color\": \"white\"}}, \"header\": {\"fill\": {\"color\": \"#C8D4E3\"}, \"line\": {\"color\": \"white\"}}, \"type\": \"table\"}]}, \"layout\": {\"annotationdefaults\": {\"arrowcolor\": \"#2a3f5f\", \"arrowhead\": 0, \"arrowwidth\": 1}, \"coloraxis\": {\"colorbar\": {\"outlinewidth\": 0, \"ticks\": \"\"}}, \"colorscale\": {\"diverging\": [[0, \"#8e0152\"], [0.1, \"#c51b7d\"], [0.2, \"#de77ae\"], [0.3, \"#f1b6da\"], [0.4, \"#fde0ef\"], [0.5, \"#f7f7f7\"], [0.6, \"#e6f5d0\"], [0.7, \"#b8e186\"], [0.8, \"#7fbc41\"], [0.9, \"#4d9221\"], [1, \"#276419\"]], \"sequential\": [[0.0, \"#0d0887\"], [0.1111111111111111, \"#46039f\"], [0.2222222222222222, \"#7201a8\"], [0.3333333333333333, \"#9c179e\"], [0.4444444444444444, \"#bd3786\"], [0.5555555555555556, \"#d8576b\"], [0.6666666666666666, \"#ed7953\"], [0.7777777777777778, \"#fb9f3a\"], [0.8888888888888888, \"#fdca26\"], [1.0, \"#f0f921\"]], \"sequentialminus\": [[0.0, \"#0d0887\"], [0.1111111111111111, \"#46039f\"], [0.2222222222222222, \"#7201a8\"], [0.3333333333333333, \"#9c179e\"], [0.4444444444444444, \"#bd3786\"], [0.5555555555555556, \"#d8576b\"], [0.6666666666666666, \"#ed7953\"], [0.7777777777777778, \"#fb9f3a\"], [0.8888888888888888, \"#fdca26\"], [1.0, \"#f0f921\"]]}, \"colorway\": [\"#636efa\", \"#EF553B\", \"#00cc96\", \"#ab63fa\", \"#FFA15A\", \"#19d3f3\", \"#FF6692\", \"#B6E880\", \"#FF97FF\", \"#FECB52\"], \"font\": {\"color\": \"#2a3f5f\"}, \"geo\": {\"bgcolor\": \"white\", \"lakecolor\": \"white\", \"landcolor\": \"#E5ECF6\", \"showlakes\": true, \"showland\": true, \"subunitcolor\": \"white\"}, \"hoverlabel\": {\"align\": \"left\"}, \"hovermode\": \"closest\", \"mapbox\": {\"style\": \"light\"}, \"paper_bgcolor\": \"white\", \"plot_bgcolor\": \"#E5ECF6\", \"polar\": {\"angularaxis\": {\"gridcolor\": \"white\", \"linecolor\": \"white\", \"ticks\": \"\"}, \"bgcolor\": \"#E5ECF6\", \"radialaxis\": {\"gridcolor\": \"white\", \"linecolor\": \"white\", \"ticks\": \"\"}}, \"scene\": {\"xaxis\": {\"backgroundcolor\": \"#E5ECF6\", \"gridcolor\": \"white\", \"gridwidth\": 2, \"linecolor\": \"white\", \"showbackground\": true, \"ticks\": \"\", \"zerolinecolor\": \"white\"}, \"yaxis\": {\"backgroundcolor\": \"#E5ECF6\", \"gridcolor\": \"white\", \"gridwidth\": 2, \"linecolor\": \"white\", \"showbackground\": true, \"ticks\": \"\", \"zerolinecolor\": \"white\"}, \"zaxis\": {\"backgroundcolor\": \"#E5ECF6\", \"gridcolor\": \"white\", \"gridwidth\": 2, \"linecolor\": \"white\", \"showbackground\": true, \"ticks\": \"\", \"zerolinecolor\": \"white\"}}, \"shapedefaults\": {\"line\": {\"color\": \"#2a3f5f\"}}, \"ternary\": {\"aaxis\": {\"gridcolor\": \"white\", \"linecolor\": \"white\", \"ticks\": \"\"}, \"baxis\": {\"gridcolor\": \"white\", \"linecolor\": \"white\", \"ticks\": \"\"}, \"bgcolor\": \"#E5ECF6\", \"caxis\": {\"gridcolor\": \"white\", \"linecolor\": \"white\", \"ticks\": \"\"}}, \"title\": {\"x\": 0.05}, \"xaxis\": {\"automargin\": true, \"gridcolor\": \"white\", \"linecolor\": \"white\", \"ticks\": \"\", \"title\": {\"standoff\": 15}, \"zerolinecolor\": \"white\", \"zerolinewidth\": 2}, \"yaxis\": {\"automargin\": true, \"gridcolor\": \"white\", \"linecolor\": \"white\", \"ticks\": \"\", \"title\": {\"standoff\": 15}, \"zerolinecolor\": \"white\", \"zerolinewidth\": 2}}}, \"title\": {\"text\": \"Enrollment Change in BCPSS, 2019-2020\"}, \"xaxis\": {\"anchor\": \"y\", \"domain\": [0.0, 1.0], \"title\": {\"text\": \"School Name\"}}, \"yaxis\": {\"anchor\": \"x\", \"domain\": [0.0, 1.0], \"title\": {\"text\": \"Enrollment Change\"}}},\n",
              "                        {\"responsive\": true}\n",
              "                    ).then(function(){\n",
              "                            \n",
              "var gd = document.getElementById('47d6bafa-a3ea-46c5-9bed-04b1e91d1406');\n",
              "var x = new MutationObserver(function (mutations, observer) {{\n",
              "        var display = window.getComputedStyle(gd).display;\n",
              "        if (!display || display === 'none') {{\n",
              "            console.log([gd, 'removed!']);\n",
              "            Plotly.purge(gd);\n",
              "            observer.disconnect();\n",
              "        }}\n",
              "}});\n",
              "\n",
              "// Listen for the removal of the full notebook cells\n",
              "var notebookContainer = gd.closest('#notebook-container');\n",
              "if (notebookContainer) {{\n",
              "    x.observe(notebookContainer, {childList: true});\n",
              "}}\n",
              "\n",
              "// Listen for the clearing of the current output cell\n",
              "var outputEl = gd.closest('.output');\n",
              "if (outputEl) {{\n",
              "    x.observe(outputEl, {childList: true});\n",
              "}}\n",
              "\n",
              "                        })\n",
              "                };\n",
              "                \n",
              "            </script>\n",
              "        </div>\n",
              "</body>\n",
              "</html>"
            ]
          },
          "metadata": {
            "tags": []
          }
        }
      ]
    },
    {
      "cell_type": "code",
      "metadata": {
        "id": "DygLpZ0L61tG"
      },
      "source": [
        ""
      ],
      "execution_count": null,
      "outputs": []
    },
    {
      "cell_type": "code",
      "metadata": {
        "id": "IhaIPUea618K"
      },
      "source": [
        ""
      ],
      "execution_count": null,
      "outputs": []
    },
    {
      "cell_type": "code",
      "metadata": {
        "id": "m2wOYEMH62Lw"
      },
      "source": [
        ""
      ],
      "execution_count": null,
      "outputs": []
    },
    {
      "cell_type": "code",
      "metadata": {
        "id": "Pv4E-Moi62Hq"
      },
      "source": [
        ""
      ],
      "execution_count": null,
      "outputs": []
    },
    {
      "cell_type": "code",
      "metadata": {
        "id": "MtrFVXaF62F9"
      },
      "source": [
        ""
      ],
      "execution_count": null,
      "outputs": []
    },
    {
      "cell_type": "code",
      "metadata": {
        "id": "dKpoflb862CX"
      },
      "source": [
        ""
      ],
      "execution_count": null,
      "outputs": []
    },
    {
      "cell_type": "code",
      "metadata": {
        "id": "jmE-V7vf61_6"
      },
      "source": [
        ""
      ],
      "execution_count": null,
      "outputs": []
    },
    {
      "cell_type": "code",
      "metadata": {
        "id": "hg3q0EvH6122"
      },
      "source": [
        ""
      ],
      "execution_count": null,
      "outputs": []
    },
    {
      "cell_type": "code",
      "metadata": {
        "id": "byUY8VQV610m"
      },
      "source": [
        ""
      ],
      "execution_count": null,
      "outputs": []
    },
    {
      "cell_type": "code",
      "metadata": {
        "id": "HAHHTBWv61yH"
      },
      "source": [
        ""
      ],
      "execution_count": null,
      "outputs": []
    },
    {
      "cell_type": "code",
      "metadata": {
        "id": "WLTCne8j61nJ"
      },
      "source": [
        ""
      ],
      "execution_count": null,
      "outputs": []
    },
    {
      "cell_type": "code",
      "metadata": {
        "id": "DHVaYi3H61a9"
      },
      "source": [
        ""
      ],
      "execution_count": null,
      "outputs": []
    },
    {
      "cell_type": "code",
      "metadata": {
        "id": "CuXDeFP561MO"
      },
      "source": [
        ""
      ],
      "execution_count": null,
      "outputs": []
    },
    {
      "cell_type": "code",
      "metadata": {
        "id": "zso8g4MB4mWY"
      },
      "source": [
        "import plotly.express as px"
      ],
      "execution_count": null,
      "outputs": []
    },
    {
      "cell_type": "code",
      "metadata": {
        "id": "GxgxqdZO5zrE"
      },
      "source": [
        "bar_enrollment = px.bar(df_10_20_merge, x = \"School Name\", y = \"Enrollment Change\", title = \"Enrollment Change 2019-2020, BCPSS\")"
      ],
      "execution_count": null,
      "outputs": []
    },
    {
      "cell_type": "code",
      "metadata": {
        "id": "PGGSUKM86T9E",
        "outputId": "b5dc836a-9bf0-4233-83dc-e2c0c98cbb5f",
        "colab": {
          "base_uri": "https://localhost:8080/",
          "height": 542
        }
      },
      "source": [
        "bar_enrollment"
      ],
      "execution_count": null,
      "outputs": [
        {
          "output_type": "display_data",
          "data": {
            "text/html": [
              "<html>\n",
              "<head><meta charset=\"utf-8\" /></head>\n",
              "<body>\n",
              "    <div>\n",
              "            <script src=\"https://cdnjs.cloudflare.com/ajax/libs/mathjax/2.7.5/MathJax.js?config=TeX-AMS-MML_SVG\"></script><script type=\"text/javascript\">if (window.MathJax) {MathJax.Hub.Config({SVG: {font: \"STIX-Web\"}});}</script>\n",
              "                <script type=\"text/javascript\">window.PlotlyConfig = {MathJaxConfig: 'local'};</script>\n",
              "        <script src=\"https://cdn.plot.ly/plotly-latest.min.js\"></script>    \n",
              "            <div id=\"1ab8588a-a381-473d-9685-73da95ffd5c2\" class=\"plotly-graph-div\" style=\"height:525px; width:100%;\"></div>\n",
              "            <script type=\"text/javascript\">\n",
              "                \n",
              "                    window.PLOTLYENV=window.PLOTLYENV || {};\n",
              "                    \n",
              "                if (document.getElementById(\"1ab8588a-a381-473d-9685-73da95ffd5c2\")) {\n",
              "                    Plotly.newPlot(\n",
              "                        '1ab8588a-a381-473d-9685-73da95ffd5c2',\n",
              "                        [{\"alignmentgroup\": \"True\", \"hoverlabel\": {\"namelength\": 0}, \"hovertemplate\": \"School Name=%{x}<br>Enrollment Change=%{y}\", \"legendgroup\": \"\", \"marker\": {\"color\": \"#636efa\"}, \"name\": \"\", \"offsetgroup\": \"\", \"orientation\": \"v\", \"showlegend\": false, \"textposition\": \"auto\", \"type\": \"bar\", \"x\": [\"Sharp-Leadenhall Elementary\", \"Afya Public Charter School\", \"Joseph C. Briscoe Academy\", \"James Mosher Elementary\", \"Franklin Square Elementary/Middle\", \"Lakewood Elementary\", \"Calverton Elementary/Middle\", \"Claremont School\", \"Lockerman Bundy Elementary\", \"Sarah M. Roach Elementary\", \"George Washington Elementary\", \"Matthew A. Henson Elementary\", \"Garrett Heights Elementary/Middle\", \"N.A.C.A. Freedom and Democracy Academy II\", \"Medfield Heights Elementary\", \"Alexander Hamilton Elementary\", \"Frederick Douglass High\", \"Baltimore Collegiate School for Boys\", \"Westport Academy\", \"Dickey Hill Elementary/Middle\", \"Lois T. Murray Elementary/Middle\", \"Mary Ann Winterling Elementary at Bentalou\", \"Bard High School Early College\", \"The Historic Samuel Coleridge-Taylor Elementary\", \"Govans Elementary\", \"Independence School Local I\", \"Thomas Jefferson Elementary/Middle\", \"Northwood Elementary\", \"William S. Baer School\", \"Violetville Elementary/Middle\", \"The Mount Washington School\", \"Harlem Park Elementary/Middle\", \"Windsor Hills Elementary/Middle\", \"Callaway Elementary\", \"Dr. Nathan A. Pitts-Ashburton Elementary/Middle\", \"Edmondson-Westside High\", \"Leith Walk Elementary/Middle\", \"Digital Harbor High School\", \"Renaissance Academy\", \"Bluford Drew Jemison STEM Academy West\", \"ConneXions: A  Community Based Arts School\", \"Margaret Brent Elementary/Middle\", \"Montebello Elementary/Middle\", \"Belmont Elementary\", \"Paul Laurence Dunbar High\", \"Yorkwood Elementary\", \"Glenmount Elementary/Middle\", \"Baltimore Design School\", \"Gwynns Falls Elementary\", \"Cross Country Elementary/Middle\", \"The Green School of Baltimore\", \"The Crossroads School\", \"Baltimore Polytechnic Institute\", \"Baltimore School for the Arts\", \"Furman Templeton Preparatory Academy\", \"City Neighbors Charter School\", \"City Neighbors Hamilton\", \"Barclay Elementary/Middle\", \"Tunbridge Public Charter School\", \"City Springs Elementary/Middle\", \"All Baltimore City Schools\", \"Hamilton Elementary/Middle\", \"Gardenville Elementary\", \"Baltimore Leadership School for Young Women\", \"KIPP Harmony Academy\", \"City Neighbors High\", \"Tench Tilghman Elementary/Middle\", \"Moravia Park Elementary\", \"Roland Park Elementary/Middle\", \"Green Street Academy\", \"Midtown Academy\", \"Edgewood Elementary\", \"Thomas Johnson Elementary/Middle\", \"Mergenthaler Vocational-Technical High\", \"Steuart Hill Academic Academy\", \"Coppin Academy\", \"Reginald F. Lewis High\", \"Carver Vocational-Technical High\", \"Patterson Park Public Charter School\", \"Wildwood Elementary/Middle\", \"Southwest Baltimore Charter School\", \"Vanguard Collegiate Middle\", \"Collington Square Elementary/Middle\", \"Robert W. Coleman Elementary\", \"Mount Royal Elementary/Middle\", \"Liberty Elementary\", \"Booker T. Washington Middle\", \"Commodore John Rogers Elementary/Middle\", \"Hazelwood Elementary/Middle\", \"Armistead Gardens Elementary/Middle\", \"Waverly Elementary/Middle\", \"Johnston Square Elementary\", \"Hilton Elementary\", \"Frederick Elementary\", \"Hampstead Hill Academy\", \"Maree Garnett Farring Elementary/Middle\", \"Baltimore Montessori Public Charter School\", \"Benjamin Franklin High School at Masonville Cove\", \"Baltimore City College\", \"Edgecombe Circle Elementary\", \"Empowerment Academy\", \"Calvin M. Rodwell Elementary/Middle\", \"Charles Carroll Barrister Elementary\", \"Augusta Fells Savage Institute of Visual Arts\", \"Mary E. Rodman Elementary\", \"Baltimore International Academy\", \"National Academy Foundation\", \"Vivien T. Thomas Medical Arts Academy\", \"John Ruhrah Elementary/Middle\", \"Eutaw-Marshburn Elementary\", \"Morrell Park Elementary/Middle\", \"Francis Scott Key Elementary/Middle\", \"Western High\", \"Achievement Academy at Harbor City High\", \"Creative City Public Charter School\", \"Harford Heights Elementary\", \"Rosemont Elementary/Middle\", \"North Bend Elementary/Middle\", \"Wolfe Street Academy\", \"Beechfield Elementary/Middle\", \"Woodhome Elementary/Middle\", \"The Reach! Partnership School\", \"Fort Worthington Elementary/Middle\", \"Arundel Elementary\", \"Bay-Brook Elementary/Middle\", \"George W. F. McMechen High\", \"Lakeland Elementary/Middle\", \"Dorothy I. Height Elementary\", \"Holabird Elementary/Middle\", \"Guilford Elementary/Middle\", \"Lillie May Carroll Jackson School\", \"New Song Academy\", \"Highlandtown Elementary/Middle #215\", \"Federal Hill Preparatory Academy\", \"Excel Academy at Francis M. Wood High\", \"Sinclair Lane Elementary\", \"Patterson High\", \"Fallstaff Elementary/Middle\", \"Hampden Elementary/Middle\", \"Forest Park High\", \"Cecil Elementary\", \"Highlandtown Elementary/Middle #237\", \"Academy for College and Career Exploration\", \"William Paca Elementary\", \"New Era Academy\", \"Curtis Bay Elementary/Middle\", \"Furley Elementary\", \"Walter P. Carter Elementary/Middle\", \"Stadium School\", \"James McHenry Elementary/Middle\", \"Graceland Park/O'Donnel Heights Elementary/Middle\", \"Abbottston Elementary\", \"Eager Street Academy\", \"Pimlico Elementary/Middle\", \"William Pinderhughes Elementary/Middle\", \"Dallas F. Nicholas Sr. Elementary\", \"Gilmor Elementary\", \"Cherry Hill Elementary/Middle\", \"Brehms Lane Public Charter School\", \"Arlington Elementary/Middle\", \"Dr. Bernard Harris, Sr. Elementary\", \"Dr. Martin Luther King, Jr. Elementary/Middle\", \"Northwood Appold Community Academy\", \"Banneker Blake Academy of Arts and Sciences\", \"Elmer A. Henderson: A Johns Hopkins Partnership Sc\", \"Roots and Branches School\", \"Monarch Academy Public Charter School\"], \"xaxis\": \"x\", \"y\": [-61.111111111111114, -55.70175438596491, -38.59649122807017, -33.649289099526065, -27.79291553133515, -26.506024096385545, -22.62569832402235, -20.833333333333336, -20.361990950226243, -19.45945945945946, -15.625, -15.064102564102564, -12.802768166089965, -12.121212121212121, -11.647727272727272, -11.25, -10.533159947984396, -10.416666666666668, -9.9644128113879, -9.366391184573002, -9.090909090909092, -8.4070796460177, -8.071748878923767, -7.6923076923076925, -7.349081364829396, -7.142857142857142, -6.564551422319474, -5.762711864406779, -5.389221556886228, -4.922279792746114, -4.770017035775128, -4.436860068259386, -4.247104247104247, -3.9603960396039604, -3.6211699164345403, -3.2825322391559206, -3.0303030303030303, -2.9259896729776247, -2.510460251046025, -2.2026431718061676, -2.178217821782178, -1.8518518518518516, -1.8083182640144666, -1.5267175572519083, -1.497695852534562, -1.4563106796116505, -1.291248206599713, -0.9784735812133072, -0.949367088607595, -0.7153075822603719, -0.6211180124223602, -0.6172839506172839, -0.5681818181818182, -0.45662100456621, -0.43383947939262474, -0.4329004329004329, -0.4273504273504274, -0.41928721174004197, -0.21231422505307856, -0.1422475106685633, -0.13891169005013448, -0.11574074074074073, 0.0, 0.0, 0.06578947368421052, 0.23923444976076555, 0.25125628140703515, 0.2621231979030144, 0.27529249827942187, 0.4694835680751174, 0.5050505050505051, 0.5319148936170213, 0.7299270072992701, 0.7562536358347877, 0.8, 0.8450704225352111, 0.9157509157509158, 1.0169491525423728, 1.0914051841746248, 1.125, 1.1574074074074074, 1.3227513227513228, 1.440922190201729, 1.644736842105263, 1.806451612903226, 1.8442622950819672, 2.066115702479339, 2.0948180815876514, 2.3060796645702304, 2.3485784919653896, 2.3622047244094486, 2.405498281786942, 2.4657534246575343, 2.5380710659898478, 2.619047619047619, 2.621231979030144, 2.631578947368421, 2.742230347349177, 2.7817403708987163, 2.7906976744186047, 3.041825095057034, 3.292181069958848, 3.428571428571429, 3.4562211981566824, 3.8596491228070176, 3.940217391304348, 4.096385542168675, 4.1343669250646, 4.230317273795535, 4.428044280442804, 4.45859872611465, 4.8417132216014895, 4.903677758318739, 5.080831408775981, 5.491329479768786, 5.56844547563805, 5.8495821727019495, 6.085192697768763, 6.538461538461539, 6.6141732283464565, 6.746987951807229, 7.155025553662692, 7.4812967581047385, 7.648183556405354, 7.728337236533958, 8.0, 8.917835671342687, 9.066666666666666, 9.722222222222223, 9.836065573770492, 10.064935064935066, 10.27027027027027, 10.504201680672269, 10.526315789473683, 10.59190031152648, 10.619469026548673, 10.647359454855195, 11.216730038022813, 11.568627450980392, 11.68639053254438, 11.76470588235294, 12.01814058956916, 12.175324675324676, 12.180746561886052, 12.195121951219512, 13.050075872534142, 13.333333333333334, 14.683544303797468, 15.180722891566264, 18.08, 18.739352640545146, 20.537897310513447, 23.91304347826087, 28.985507246376812, null, null, null, null, null, null, null, null, null, null, null, null, null], \"yaxis\": \"y\"}],\n",
              "                        {\"barmode\": \"relative\", \"legend\": {\"tracegroupgap\": 0}, \"template\": {\"data\": {\"bar\": [{\"error_x\": {\"color\": \"#2a3f5f\"}, \"error_y\": {\"color\": \"#2a3f5f\"}, \"marker\": {\"line\": {\"color\": \"#E5ECF6\", \"width\": 0.5}}, \"type\": \"bar\"}], \"barpolar\": [{\"marker\": {\"line\": {\"color\": \"#E5ECF6\", \"width\": 0.5}}, \"type\": \"barpolar\"}], \"carpet\": [{\"aaxis\": {\"endlinecolor\": \"#2a3f5f\", \"gridcolor\": \"white\", \"linecolor\": \"white\", \"minorgridcolor\": \"white\", \"startlinecolor\": \"#2a3f5f\"}, \"baxis\": {\"endlinecolor\": \"#2a3f5f\", \"gridcolor\": \"white\", \"linecolor\": \"white\", \"minorgridcolor\": \"white\", \"startlinecolor\": \"#2a3f5f\"}, \"type\": \"carpet\"}], \"choropleth\": [{\"colorbar\": {\"outlinewidth\": 0, \"ticks\": \"\"}, \"type\": \"choropleth\"}], \"contour\": [{\"colorbar\": {\"outlinewidth\": 0, \"ticks\": \"\"}, \"colorscale\": [[0.0, \"#0d0887\"], [0.1111111111111111, \"#46039f\"], [0.2222222222222222, \"#7201a8\"], [0.3333333333333333, \"#9c179e\"], [0.4444444444444444, \"#bd3786\"], [0.5555555555555556, \"#d8576b\"], [0.6666666666666666, \"#ed7953\"], [0.7777777777777778, \"#fb9f3a\"], [0.8888888888888888, \"#fdca26\"], [1.0, \"#f0f921\"]], \"type\": \"contour\"}], \"contourcarpet\": [{\"colorbar\": {\"outlinewidth\": 0, \"ticks\": \"\"}, \"type\": \"contourcarpet\"}], \"heatmap\": [{\"colorbar\": {\"outlinewidth\": 0, \"ticks\": \"\"}, \"colorscale\": [[0.0, \"#0d0887\"], [0.1111111111111111, \"#46039f\"], [0.2222222222222222, \"#7201a8\"], [0.3333333333333333, \"#9c179e\"], [0.4444444444444444, \"#bd3786\"], [0.5555555555555556, \"#d8576b\"], [0.6666666666666666, \"#ed7953\"], [0.7777777777777778, \"#fb9f3a\"], [0.8888888888888888, \"#fdca26\"], [1.0, \"#f0f921\"]], \"type\": \"heatmap\"}], \"heatmapgl\": [{\"colorbar\": {\"outlinewidth\": 0, \"ticks\": \"\"}, \"colorscale\": [[0.0, \"#0d0887\"], [0.1111111111111111, \"#46039f\"], [0.2222222222222222, \"#7201a8\"], [0.3333333333333333, \"#9c179e\"], [0.4444444444444444, \"#bd3786\"], [0.5555555555555556, \"#d8576b\"], [0.6666666666666666, \"#ed7953\"], [0.7777777777777778, \"#fb9f3a\"], [0.8888888888888888, \"#fdca26\"], [1.0, \"#f0f921\"]], \"type\": \"heatmapgl\"}], \"histogram\": [{\"marker\": {\"colorbar\": {\"outlinewidth\": 0, \"ticks\": \"\"}}, \"type\": \"histogram\"}], \"histogram2d\": [{\"colorbar\": {\"outlinewidth\": 0, \"ticks\": \"\"}, \"colorscale\": [[0.0, \"#0d0887\"], [0.1111111111111111, \"#46039f\"], [0.2222222222222222, \"#7201a8\"], [0.3333333333333333, \"#9c179e\"], [0.4444444444444444, \"#bd3786\"], [0.5555555555555556, \"#d8576b\"], [0.6666666666666666, \"#ed7953\"], [0.7777777777777778, \"#fb9f3a\"], [0.8888888888888888, \"#fdca26\"], [1.0, \"#f0f921\"]], \"type\": \"histogram2d\"}], \"histogram2dcontour\": [{\"colorbar\": {\"outlinewidth\": 0, \"ticks\": \"\"}, \"colorscale\": [[0.0, \"#0d0887\"], [0.1111111111111111, \"#46039f\"], [0.2222222222222222, \"#7201a8\"], [0.3333333333333333, \"#9c179e\"], [0.4444444444444444, \"#bd3786\"], [0.5555555555555556, \"#d8576b\"], [0.6666666666666666, \"#ed7953\"], [0.7777777777777778, \"#fb9f3a\"], [0.8888888888888888, \"#fdca26\"], [1.0, \"#f0f921\"]], \"type\": \"histogram2dcontour\"}], \"mesh3d\": [{\"colorbar\": {\"outlinewidth\": 0, \"ticks\": \"\"}, \"type\": \"mesh3d\"}], \"parcoords\": [{\"line\": {\"colorbar\": {\"outlinewidth\": 0, \"ticks\": \"\"}}, \"type\": \"parcoords\"}], \"pie\": [{\"automargin\": true, \"type\": \"pie\"}], \"scatter\": [{\"marker\": {\"colorbar\": {\"outlinewidth\": 0, \"ticks\": \"\"}}, \"type\": \"scatter\"}], \"scatter3d\": [{\"line\": {\"colorbar\": {\"outlinewidth\": 0, \"ticks\": \"\"}}, \"marker\": {\"colorbar\": {\"outlinewidth\": 0, \"ticks\": \"\"}}, \"type\": \"scatter3d\"}], \"scattercarpet\": [{\"marker\": {\"colorbar\": {\"outlinewidth\": 0, \"ticks\": \"\"}}, \"type\": \"scattercarpet\"}], \"scattergeo\": [{\"marker\": {\"colorbar\": {\"outlinewidth\": 0, \"ticks\": \"\"}}, \"type\": \"scattergeo\"}], \"scattergl\": [{\"marker\": {\"colorbar\": {\"outlinewidth\": 0, \"ticks\": \"\"}}, \"type\": \"scattergl\"}], \"scattermapbox\": [{\"marker\": {\"colorbar\": {\"outlinewidth\": 0, \"ticks\": \"\"}}, \"type\": \"scattermapbox\"}], \"scatterpolar\": [{\"marker\": {\"colorbar\": {\"outlinewidth\": 0, \"ticks\": \"\"}}, \"type\": \"scatterpolar\"}], \"scatterpolargl\": [{\"marker\": {\"colorbar\": {\"outlinewidth\": 0, \"ticks\": \"\"}}, \"type\": \"scatterpolargl\"}], \"scatterternary\": [{\"marker\": {\"colorbar\": {\"outlinewidth\": 0, \"ticks\": \"\"}}, \"type\": \"scatterternary\"}], \"surface\": [{\"colorbar\": {\"outlinewidth\": 0, \"ticks\": \"\"}, \"colorscale\": [[0.0, \"#0d0887\"], [0.1111111111111111, \"#46039f\"], [0.2222222222222222, \"#7201a8\"], [0.3333333333333333, \"#9c179e\"], [0.4444444444444444, \"#bd3786\"], [0.5555555555555556, \"#d8576b\"], [0.6666666666666666, \"#ed7953\"], [0.7777777777777778, \"#fb9f3a\"], [0.8888888888888888, \"#fdca26\"], [1.0, \"#f0f921\"]], \"type\": \"surface\"}], \"table\": [{\"cells\": {\"fill\": {\"color\": \"#EBF0F8\"}, \"line\": {\"color\": \"white\"}}, \"header\": {\"fill\": {\"color\": \"#C8D4E3\"}, \"line\": {\"color\": \"white\"}}, \"type\": \"table\"}]}, \"layout\": {\"annotationdefaults\": {\"arrowcolor\": \"#2a3f5f\", \"arrowhead\": 0, \"arrowwidth\": 1}, \"coloraxis\": {\"colorbar\": {\"outlinewidth\": 0, \"ticks\": \"\"}}, \"colorscale\": {\"diverging\": [[0, \"#8e0152\"], [0.1, \"#c51b7d\"], [0.2, \"#de77ae\"], [0.3, \"#f1b6da\"], [0.4, \"#fde0ef\"], [0.5, \"#f7f7f7\"], [0.6, \"#e6f5d0\"], [0.7, \"#b8e186\"], [0.8, \"#7fbc41\"], [0.9, \"#4d9221\"], [1, \"#276419\"]], \"sequential\": [[0.0, \"#0d0887\"], [0.1111111111111111, \"#46039f\"], [0.2222222222222222, \"#7201a8\"], [0.3333333333333333, \"#9c179e\"], [0.4444444444444444, \"#bd3786\"], [0.5555555555555556, \"#d8576b\"], [0.6666666666666666, \"#ed7953\"], [0.7777777777777778, \"#fb9f3a\"], [0.8888888888888888, \"#fdca26\"], [1.0, \"#f0f921\"]], \"sequentialminus\": [[0.0, \"#0d0887\"], [0.1111111111111111, \"#46039f\"], [0.2222222222222222, \"#7201a8\"], [0.3333333333333333, \"#9c179e\"], [0.4444444444444444, \"#bd3786\"], [0.5555555555555556, \"#d8576b\"], [0.6666666666666666, \"#ed7953\"], [0.7777777777777778, \"#fb9f3a\"], [0.8888888888888888, \"#fdca26\"], [1.0, \"#f0f921\"]]}, \"colorway\": [\"#636efa\", \"#EF553B\", \"#00cc96\", \"#ab63fa\", \"#FFA15A\", \"#19d3f3\", \"#FF6692\", \"#B6E880\", \"#FF97FF\", \"#FECB52\"], \"font\": {\"color\": \"#2a3f5f\"}, \"geo\": {\"bgcolor\": \"white\", \"lakecolor\": \"white\", \"landcolor\": \"#E5ECF6\", \"showlakes\": true, \"showland\": true, \"subunitcolor\": \"white\"}, \"hoverlabel\": {\"align\": \"left\"}, \"hovermode\": \"closest\", \"mapbox\": {\"style\": \"light\"}, \"paper_bgcolor\": \"white\", \"plot_bgcolor\": \"#E5ECF6\", \"polar\": {\"angularaxis\": {\"gridcolor\": \"white\", \"linecolor\": \"white\", \"ticks\": \"\"}, \"bgcolor\": \"#E5ECF6\", \"radialaxis\": {\"gridcolor\": \"white\", \"linecolor\": \"white\", \"ticks\": \"\"}}, \"scene\": {\"xaxis\": {\"backgroundcolor\": \"#E5ECF6\", \"gridcolor\": \"white\", \"gridwidth\": 2, \"linecolor\": \"white\", \"showbackground\": true, \"ticks\": \"\", \"zerolinecolor\": \"white\"}, \"yaxis\": {\"backgroundcolor\": \"#E5ECF6\", \"gridcolor\": \"white\", \"gridwidth\": 2, \"linecolor\": \"white\", \"showbackground\": true, \"ticks\": \"\", \"zerolinecolor\": \"white\"}, \"zaxis\": {\"backgroundcolor\": \"#E5ECF6\", \"gridcolor\": \"white\", \"gridwidth\": 2, \"linecolor\": \"white\", \"showbackground\": true, \"ticks\": \"\", \"zerolinecolor\": \"white\"}}, \"shapedefaults\": {\"line\": {\"color\": \"#2a3f5f\"}}, \"ternary\": {\"aaxis\": {\"gridcolor\": \"white\", \"linecolor\": \"white\", \"ticks\": \"\"}, \"baxis\": {\"gridcolor\": \"white\", \"linecolor\": \"white\", \"ticks\": \"\"}, \"bgcolor\": \"#E5ECF6\", \"caxis\": {\"gridcolor\": \"white\", \"linecolor\": \"white\", \"ticks\": \"\"}}, \"title\": {\"x\": 0.05}, \"xaxis\": {\"automargin\": true, \"gridcolor\": \"white\", \"linecolor\": \"white\", \"ticks\": \"\", \"title\": {\"standoff\": 15}, \"zerolinecolor\": \"white\", \"zerolinewidth\": 2}, \"yaxis\": {\"automargin\": true, \"gridcolor\": \"white\", \"linecolor\": \"white\", \"ticks\": \"\", \"title\": {\"standoff\": 15}, \"zerolinecolor\": \"white\", \"zerolinewidth\": 2}}}, \"title\": {\"text\": \"Enrollment Change 2019-2020, BCPSS\"}, \"xaxis\": {\"anchor\": \"y\", \"domain\": [0.0, 1.0], \"title\": {\"text\": \"School Name\"}}, \"yaxis\": {\"anchor\": \"x\", \"domain\": [0.0, 1.0], \"title\": {\"text\": \"Enrollment Change\"}}},\n",
              "                        {\"responsive\": true}\n",
              "                    ).then(function(){\n",
              "                            \n",
              "var gd = document.getElementById('1ab8588a-a381-473d-9685-73da95ffd5c2');\n",
              "var x = new MutationObserver(function (mutations, observer) {{\n",
              "        var display = window.getComputedStyle(gd).display;\n",
              "        if (!display || display === 'none') {{\n",
              "            console.log([gd, 'removed!']);\n",
              "            Plotly.purge(gd);\n",
              "            observer.disconnect();\n",
              "        }}\n",
              "}});\n",
              "\n",
              "// Listen for the removal of the full notebook cells\n",
              "var notebookContainer = gd.closest('#notebook-container');\n",
              "if (notebookContainer) {{\n",
              "    x.observe(notebookContainer, {childList: true});\n",
              "}}\n",
              "\n",
              "// Listen for the clearing of the current output cell\n",
              "var outputEl = gd.closest('.output');\n",
              "if (outputEl) {{\n",
              "    x.observe(outputEl, {childList: true});\n",
              "}}\n",
              "\n",
              "                        })\n",
              "                };\n",
              "                \n",
              "            </script>\n",
              "        </div>\n",
              "</body>\n",
              "</html>"
            ]
          },
          "metadata": {
            "tags": []
          }
        }
      ]
    },
    {
      "cell_type": "code",
      "metadata": {
        "id": "6SraVUP26VGK"
      },
      "source": [
        "df_10_20_merge = df_10_20_merge.sort_values(by = \"Enrollment Change\")"
      ],
      "execution_count": null,
      "outputs": []
    },
    {
      "cell_type": "code",
      "metadata": {
        "id": "t4s9P5r46la3"
      },
      "source": [
        ""
      ],
      "execution_count": null,
      "outputs": []
    }
  ]
}