{
  "nbformat": 4,
  "nbformat_minor": 0,
  "metadata": {
    "colab": {
      "name": "2020-11-03-bcpss-enrollment-comments-only-melanieshimano.ipynb",
      "provenance": [],
      "collapsed_sections": [],
      "authorship_tag": "ABX9TyO3996MOWAwBVMaSjsni7eJ",
      "include_colab_link": true
    },
    "kernelspec": {
      "name": "python3",
      "display_name": "Python 3"
    }
  },
  "cells": [
    {
      "cell_type": "markdown",
      "metadata": {
        "id": "view-in-github",
        "colab_type": "text"
      },
      "source": [
        "<a href=\"https://colab.research.google.com/github/melanieshimano/bcpss-enrollment-data/blob/main/2020_11_03_bcpss_enrollment_comments_only_melanieshimano.ipynb\" target=\"_parent\"><img src=\"https://colab.research.google.com/assets/colab-badge.svg\" alt=\"Open In Colab\"/></a>"
      ]
    },
    {
      "cell_type": "markdown",
      "metadata": {
        "id": "5DDQZhWGZpJ9"
      },
      "source": [
        "# Looking at Baltimore Public School Enrollment 2019-2020"
      ]
    },
    {
      "cell_type": "markdown",
      "metadata": {
        "id": "VcSDC4bSZvlX"
      },
      "source": [
        "*adding notes about what we want to figure out in this analysis*\n",
        "\n",
        "*   Change in enrollment 2019-2020; how has covid affected enrollment?\n",
        "*   how is this different for different counties?\n",
        "*   how is this different for different grade levels?\n",
        "\n"
      ]
    },
    {
      "cell_type": "markdown",
      "metadata": {
        "id": "1nZ15DyYaAuo"
      },
      "source": [
        "# Import libraries"
      ]
    },
    {
      "cell_type": "code",
      "metadata": {
        "id": "BpWF4AmV7WiJ"
      },
      "source": [
        "#pip install plotly\n",
        "#do this the first time that you use plolty in Google Colab\n",
        "#you'll only need to do this once"
      ],
      "execution_count": 1,
      "outputs": []
    },
    {
      "cell_type": "code",
      "metadata": {
        "id": "l3OEuqFvi5Xc"
      },
      "source": [
        "# import libraries\n",
        "\n",
        "#for data analysis\n",
        "\n",
        "\n",
        "#for data viz\n",
        "\n"
      ],
      "execution_count": 2,
      "outputs": []
    },
    {
      "cell_type": "markdown",
      "metadata": {
        "id": "4tL3Eu-Ha7XF"
      },
      "source": [
        "# import data"
      ]
    },
    {
      "cell_type": "code",
      "metadata": {
        "id": "GEmrf5jva4WS"
      },
      "source": [
        "# import data \n",
        "\n",
        "#2019 enrollment data\n"
      ],
      "execution_count": 3,
      "outputs": []
    },
    {
      "cell_type": "code",
      "metadata": {
        "id": "oZvXEC6Wfa1U"
      },
      "source": [
        "# preview data\n"
      ],
      "execution_count": 4,
      "outputs": []
    },
    {
      "cell_type": "code",
      "metadata": {
        "id": "xYktbi9nfeFS"
      },
      "source": [
        "#import rest of the data\n",
        "\n",
        "# 2020 enrollment data\n",
        "\n",
        "#2019 attendance data\n"
      ],
      "execution_count": 5,
      "outputs": []
    },
    {
      "cell_type": "code",
      "metadata": {
        "id": "fEDhxQM9gEMZ"
      },
      "source": [
        "#preview the top 5 rows of 2020 enrollment\n"
      ],
      "execution_count": 6,
      "outputs": []
    },
    {
      "cell_type": "code",
      "metadata": {
        "id": "srnE3XvkgIQk"
      },
      "source": [
        "#preview the bottom five rows of attendance data\n"
      ],
      "execution_count": 7,
      "outputs": []
    },
    {
      "cell_type": "code",
      "metadata": {
        "id": "9-P2FKxWiPmC"
      },
      "source": [
        "# list the names of columns in the 2019 enrollment data"
      ],
      "execution_count": 8,
      "outputs": []
    },
    {
      "cell_type": "code",
      "metadata": {
        "id": "awEh5NJBiUR2"
      },
      "source": [
        "# list all of the unique values in the \"LSS Name\" column in 2019 enrollment data\n"
      ],
      "execution_count": 9,
      "outputs": []
    },
    {
      "cell_type": "code",
      "metadata": {
        "id": "-vo-aO5vnDVG"
      },
      "source": [
        "# look at the number of unique values in \"School Name\" in the 2019 enrollment data"
      ],
      "execution_count": 10,
      "outputs": []
    },
    {
      "cell_type": "markdown",
      "metadata": {
        "id": "ibvQ5g71gTa9"
      },
      "source": [
        " # Filter data for baltimore city only\n",
        " "
      ]
    },
    {
      "cell_type": "code",
      "metadata": {
        "id": "FoMRxEnonDhC"
      },
      "source": [
        "# look at the high level information in the 2019 enrollment data"
      ],
      "execution_count": 11,
      "outputs": []
    },
    {
      "cell_type": "code",
      "metadata": {
        "id": "Da6npnZ6nDts"
      },
      "source": [
        "# look at the basic statistics of numerical columns in the 2019 enrollment data"
      ],
      "execution_count": 12,
      "outputs": []
    },
    {
      "cell_type": "code",
      "metadata": {
        "id": "X5mQJ6ZznDzI"
      },
      "source": [
        "# preview the 2019 enrollment data to remind us what we're looking for"
      ],
      "execution_count": 13,
      "outputs": []
    },
    {
      "cell_type": "code",
      "metadata": {
        "id": "jW2GSQtepXpu"
      },
      "source": [
        "# filter data for baltimore city only in the LSS Name column"
      ],
      "execution_count": 14,
      "outputs": []
    },
    {
      "cell_type": "code",
      "metadata": {
        "id": "xRfC1eMopXta"
      },
      "source": [
        "#preview bmore only data\n"
      ],
      "execution_count": 15,
      "outputs": []
    },
    {
      "cell_type": "code",
      "metadata": {
        "id": "hOIk4D6JpYP7"
      },
      "source": [
        "# filter by total enrollment in the \"Grade\" column\n"
      ],
      "execution_count": 16,
      "outputs": []
    },
    {
      "cell_type": "code",
      "metadata": {
        "id": "1rIGRF8opYKz"
      },
      "source": [
        "#preview filtered data\n"
      ],
      "execution_count": 17,
      "outputs": []
    },
    {
      "cell_type": "code",
      "metadata": {
        "id": "5UohbDdLpXkr"
      },
      "source": [
        "# filter 2020 enrollment data to only include Baltimore City in LSS Name and All Grades in the Grade column\n"
      ],
      "execution_count": 18,
      "outputs": []
    },
    {
      "cell_type": "code",
      "metadata": {
        "id": "G7sZt6bRq_F5"
      },
      "source": [
        "# preview the filtered data"
      ],
      "execution_count": 19,
      "outputs": []
    },
    {
      "cell_type": "markdown",
      "metadata": {
        "id": "8KWYG3bvrXE8"
      },
      "source": [
        "# Merge 2019 and 2020 Enrollment"
      ]
    },
    {
      "cell_type": "code",
      "metadata": {
        "id": "MNxcajCCnDnE"
      },
      "source": [
        "# create a new dataframe that merge School Name and Enrolled Count from the 2020 enrollment data onto the 2019 data \n",
        "#using \"School Name\" column as the \"key column\"\n"
      ],
      "execution_count": 20,
      "outputs": []
    },
    {
      "cell_type": "code",
      "metadata": {
        "id": "DJUzhl81nDbd"
      },
      "source": [
        "# preview merged data"
      ],
      "execution_count": 21,
      "outputs": []
    },
    {
      "cell_type": "code",
      "metadata": {
        "id": "X2HhcX6vnC_h"
      },
      "source": [
        "# rename _x for 2019 and _y for 2020 in column names\n"
      ],
      "execution_count": 22,
      "outputs": []
    },
    {
      "cell_type": "code",
      "metadata": {
        "id": "_oEB_OsznC3R"
      },
      "source": [
        "# preview edited data"
      ],
      "execution_count": 23,
      "outputs": []
    },
    {
      "cell_type": "markdown",
      "metadata": {
        "id": "_fT6ztBy0peH"
      },
      "source": [
        "# Calculate Percent Change in a new column"
      ]
    },
    {
      "cell_type": "code",
      "metadata": {
        "id": "dp7ulib-3Gt_"
      },
      "source": [
        "# change datatype of enrollment to float so we can perform calculations\n"
      ],
      "execution_count": 24,
      "outputs": []
    },
    {
      "cell_type": "code",
      "metadata": {
        "id": "gP7Tr_dE3vvI"
      },
      "source": [
        "# re-look at the information in the dataframe to see how this changed the Enrolled Count 2019 data"
      ],
      "execution_count": 25,
      "outputs": []
    },
    {
      "cell_type": "code",
      "metadata": {
        "id": "H6oucanJ30Vw"
      },
      "source": [
        "# change datatype of enrollment to float in 2020 column"
      ],
      "execution_count": 26,
      "outputs": []
    },
    {
      "cell_type": "code",
      "metadata": {
        "id": "NxzKQbtE35_V"
      },
      "source": [
        "# calculate the percent enrollment change in 2020 as a value in a new column\n"
      ],
      "execution_count": 27,
      "outputs": []
    },
    {
      "cell_type": "code",
      "metadata": {
        "id": "UmUfKz_F4S7F"
      },
      "source": [
        "# preview new column in dataframe"
      ],
      "execution_count": 28,
      "outputs": []
    },
    {
      "cell_type": "code",
      "metadata": {
        "id": "xSphfTdf4URp"
      },
      "source": [
        "#change enrollment change to percent by multiplying by 100"
      ],
      "execution_count": 29,
      "outputs": []
    },
    {
      "cell_type": "code",
      "metadata": {
        "id": "7mYdjM674k1L"
      },
      "source": [
        "# preview data"
      ],
      "execution_count": 30,
      "outputs": []
    },
    {
      "cell_type": "markdown",
      "metadata": {
        "id": "a0HapR7-63BZ"
      },
      "source": [
        "# Bar Graph of Enrollment Change"
      ]
    },
    {
      "cell_type": "code",
      "metadata": {
        "id": "kFcP28Es61VM"
      },
      "source": [
        "# create a bar chart of enrollment change\n",
        "# x axis is school name\n",
        "# y axis is enrollment change\n",
        "\n"
      ],
      "execution_count": 31,
      "outputs": []
    },
    {
      "cell_type": "code",
      "metadata": {
        "id": "J3u4IMhv8Hyx"
      },
      "source": [
        "# sort values in enrollment change from least to greatest (default)\n"
      ],
      "execution_count": 32,
      "outputs": []
    },
    {
      "cell_type": "code",
      "metadata": {
        "id": "4Vadblba8gF2"
      },
      "source": [
        "# preview data"
      ],
      "execution_count": 33,
      "outputs": []
    },
    {
      "cell_type": "code",
      "metadata": {
        "id": "228MVEzb61fh"
      },
      "source": [
        "# show bar graph"
      ],
      "execution_count": 34,
      "outputs": []
    },
    {
      "cell_type": "code",
      "metadata": {
        "id": "DygLpZ0L61tG"
      },
      "source": [
        ""
      ],
      "execution_count": 34,
      "outputs": []
    },
    {
      "cell_type": "code",
      "metadata": {
        "id": "IhaIPUea618K"
      },
      "source": [
        ""
      ],
      "execution_count": 34,
      "outputs": []
    },
    {
      "cell_type": "code",
      "metadata": {
        "id": "m2wOYEMH62Lw"
      },
      "source": [
        ""
      ],
      "execution_count": 34,
      "outputs": []
    },
    {
      "cell_type": "code",
      "metadata": {
        "id": "Pv4E-Moi62Hq"
      },
      "source": [
        ""
      ],
      "execution_count": 34,
      "outputs": []
    },
    {
      "cell_type": "code",
      "metadata": {
        "id": "MtrFVXaF62F9"
      },
      "source": [
        ""
      ],
      "execution_count": 34,
      "outputs": []
    },
    {
      "cell_type": "code",
      "metadata": {
        "id": "dKpoflb862CX"
      },
      "source": [
        ""
      ],
      "execution_count": 34,
      "outputs": []
    },
    {
      "cell_type": "code",
      "metadata": {
        "id": "jmE-V7vf61_6"
      },
      "source": [
        ""
      ],
      "execution_count": 34,
      "outputs": []
    },
    {
      "cell_type": "code",
      "metadata": {
        "id": "hg3q0EvH6122"
      },
      "source": [
        ""
      ],
      "execution_count": 34,
      "outputs": []
    },
    {
      "cell_type": "code",
      "metadata": {
        "id": "byUY8VQV610m"
      },
      "source": [
        ""
      ],
      "execution_count": 34,
      "outputs": []
    },
    {
      "cell_type": "code",
      "metadata": {
        "id": "HAHHTBWv61yH"
      },
      "source": [
        ""
      ],
      "execution_count": 34,
      "outputs": []
    },
    {
      "cell_type": "code",
      "metadata": {
        "id": "WLTCne8j61nJ"
      },
      "source": [
        ""
      ],
      "execution_count": 34,
      "outputs": []
    },
    {
      "cell_type": "code",
      "metadata": {
        "id": "DHVaYi3H61a9"
      },
      "source": [
        ""
      ],
      "execution_count": 34,
      "outputs": []
    },
    {
      "cell_type": "code",
      "metadata": {
        "id": "CuXDeFP561MO"
      },
      "source": [
        ""
      ],
      "execution_count": 34,
      "outputs": []
    },
    {
      "cell_type": "code",
      "metadata": {
        "id": "t4s9P5r46la3"
      },
      "source": [
        ""
      ],
      "execution_count": null,
      "outputs": []
    }
  ]
}